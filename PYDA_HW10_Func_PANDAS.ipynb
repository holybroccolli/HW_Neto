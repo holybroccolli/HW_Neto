{
 "cells": [
  {
   "cell_type": "markdown",
   "id": "88b82aa9",
   "metadata": {},
   "source": [
    "Напишите функцию, которая классифицирует фильмы из материалов занятия по правилам:\n",
    "\n",
    "оценка 2 и ниже — низкий рейтинг; оценка 4 и ниже — средний рейтинг; оценка 4.5 и 5 — высокий рейтинг. Результат классификации запишите в столбец class."
   ]
  },
  {
   "cell_type": "code",
   "execution_count": null,
   "id": "0a2ef4ca",
   "metadata": {},
   "outputs": [],
   "source": [
    "import pandas as pd"
   ]
  },
  {
   "cell_type": "code",
   "execution_count": null,
   "id": "6038c45c",
   "metadata": {},
   "outputs": [],
   "source": [
    "df_rat = pd.read_csv('ratings.csv')\n",
    "df_rat = df_rat[['movieId', 'rating']]\n",
    "df_rat.shape"
   ]
  },
  {
   "cell_type": "code",
   "execution_count": null,
   "id": "c9acd601",
   "metadata": {},
   "outputs": [],
   "source": [
    "def classification(score):\n",
    "  if score <= 2:\n",
    "    return 'Low' \n",
    "  elif score >= 4.5:\n",
    "    return 'High'\n",
    "  else: return 'Medium'"
   ]
  },
  {
   "cell_type": "code",
   "execution_count": null,
   "id": "509a1c18",
   "metadata": {},
   "outputs": [],
   "source": [
    "df_rat['class'] = df_rat.rating.apply(classification)\n",
    "df_rat.head(10)"
   ]
  },
  {
   "cell_type": "markdown",
   "id": "4f72fa49",
   "metadata": {},
   "source": [
    "2. Используйте файл keywords.csv.\n",
    "\n",
    "Нужно написать гео-классификатор, который каждой строке сможет выставить географическую принадлежность определённому региону. Т. е. если поисковый запрос содержит название города региона, то в столбце ‘region’ пишется название этого региона. Если поисковый запрос не содержит названия города, то ставим ‘undefined’.\n",
    "\n",
    "Правила распределения по регионам Центр, Северо-Запад и Дальний Восток:\n",
    "\n",
    "geo_data = {\n",
    "\n",
    "1 2 3 4 5 'Центр': ['москва', 'тула', 'ярославль'],\n",
    "\n",
    "'Северо-Запад': ['петербург', 'псков', 'мурманск'],\n",
    "\n",
    "'Дальний Восток': ['владивосток', 'сахалин', 'хабаровск'] }\n",
    "\n",
    "Результат классификации запишите в отдельный столбец region."
   ]
  },
  {
   "cell_type": "code",
   "execution_count": null,
   "id": "73936b06",
   "metadata": {},
   "outputs": [],
   "source": [
    "df_key = pd.read_csv('keywords.csv', encoding = 'utf-8')\n",
    "df_key.sample(20)"
   ]
  },
  {
   "cell_type": "code",
   "execution_count": null,
   "id": "f9e57f6a",
   "metadata": {},
   "outputs": [],
   "source": [
    "key1 = 'вконтакте моя страница владивосток'"
   ]
  },
  {
   "cell_type": "code",
   "execution_count": null,
   "id": "c9f2f68e",
   "metadata": {},
   "outputs": [],
   "source": [
    "geo_data = {\n",
    "            'Центр': ['москва', 'тула', 'ярославль'],\n",
    "            'Северо-Запад': ['петербург', 'псков', 'мурманск'],\n",
    "            'Дальний Восток': ['владивосток', 'сахалин', 'хабаровск']\n",
    "            }"
   ]
  },
  {
   "cell_type": "code",
   "execution_count": null,
   "id": "03ab9ab4",
   "metadata": {},
   "outputs": [],
   "source": [
    "def geo_class(keyword):\n",
    "  t = 'undefined'\n",
    "  for word in keyword.split():\n",
    "    for k, v in geo_data.items():\n",
    "      if word in v: t = k   #return k\n",
    "  return t"
   ]
  },
  {
   "cell_type": "code",
   "execution_count": null,
   "id": "72dfb64c",
   "metadata": {},
   "outputs": [],
   "source": [
    "df_key['region'] = df_key.keyword.apply(geo_class)\n",
    "df_key.head(5)"
   ]
  },
  {
   "cell_type": "code",
   "execution_count": null,
   "id": "77636a9c",
   "metadata": {},
   "outputs": [],
   "source": [
    "df_key[df_key.region != 'undefined']"
   ]
  },
  {
   "cell_type": "code",
   "execution_count": null,
   "id": "1a3ca5db",
   "metadata": {},
   "outputs": [],
   "source": [
    "df_key.groupby('region').count()"
   ]
  },
  {
   "cell_type": "markdown",
   "id": "ca9457bb",
   "metadata": {},
   "source": [
    "3. Есть мнение, что раньше снимали настоящее кино, не то что сейчас. Ваша задача — проверить это утверждение, используя файлы с рейтингами фильмов из прошлого домашнего занятия: файл movies.csv и ratings.csv из базы. Нужно проверить, верно ли, что с ростом года выпуска фильма его средний рейтинг становится ниже.\n",
    "\n",
    "Вы не будете затрагивать субьективные факторы выставления этих рейтингов, а пройдётесь по алгоритму:\n",
    "\n",
    "В переменную years запишите список из всех годов с 1950 по 2010 года.\n",
    "\n",
    "Напишите функцию production_year, которая каждой строке из названия фильма выставляет год выпуска. Не все названия фильмов содержат год выпуска в одинаковом формате, поэтому используйте алгоритм:\n",
    "\n",
    "для каждой строки пройдите по всем годам списка years; если номер года присутствует в названии фильма, то функция возвращает этот год, как год выпуска; если ни один из номеров года списка years не встретился в названии фильма, то возвращается 1900 год. Запишите год выпуска фильма по алгоритму пункта 2 в новый столбец ‘year’.\n",
    "\n",
    "Посчитайте средний рейтинг всех фильмов для каждого значения столбца ‘year’ и отсортируйте результат по убыванию рейтинга."
   ]
  },
  {
   "cell_type": "code",
   "execution_count": null,
   "id": "344ade16",
   "metadata": {},
   "outputs": [],
   "source": [
    "import pandas as pd\n",
    "df_rating = pd.read_csv('ratings.csv')\n",
    "df_movies = pd.read_csv('movies.csv')"
   ]
  },
  {
   "cell_type": "code",
   "execution_count": null,
   "id": "e670c6cc",
   "metadata": {},
   "outputs": [],
   "source": [
    "df_rating = df_rating[['movieId', 'rating']]\n",
    "df_rating.sample(3)"
   ]
  },
  {
   "cell_type": "code",
   "execution_count": null,
   "id": "338aac66",
   "metadata": {},
   "outputs": [],
   "source": [
    "df_rating.shape"
   ]
  },
  {
   "cell_type": "code",
   "execution_count": null,
   "id": "5f7d1fca",
   "metadata": {},
   "outputs": [],
   "source": [
    "df_movies.sample(3)"
   ]
  },
  {
   "cell_type": "code",
   "execution_count": null,
   "id": "b165e2ca",
   "metadata": {},
   "outputs": [],
   "source": [
    "df_movies.shape"
   ]
  },
  {
   "cell_type": "code",
   "execution_count": null,
   "id": "4daa52a5",
   "metadata": {},
   "outputs": [],
   "source": [
    "def year_extract(str):\n",
    "  year = str[-6:].strip(' ()- ')            #можно регулярными выражениями?\n",
    "  if year.isdigit(): return int(year)\n",
    "  else: return 1900"
   ]
  },
  {
   "cell_type": "code",
   "execution_count": null,
   "id": "a8358d41",
   "metadata": {},
   "outputs": [],
   "source": [
    "df_movies['year'] = df_movies.title.apply(year_extract)"
   ]
  },
  {
   "cell_type": "code",
   "execution_count": null,
   "id": "0d626c61",
   "metadata": {},
   "outputs": [],
   "source": [
    "df_movies[df_movies['year'] == 1900]  #4 фильма 1900 "
   ]
  },
  {
   "cell_type": "code",
   "execution_count": null,
   "id": "110c3823",
   "metadata": {},
   "outputs": [],
   "source": [
    "# В переменную years запишите список из всех годов с 1950 по 2010 года.\n",
    "import numpy as np\n",
    "years = np.arange(1950, 2011)\n",
    "years"
   ]
  },
  {
   "cell_type": "code",
   "execution_count": null,
   "id": "21a62252",
   "metadata": {},
   "outputs": [],
   "source": [
    "#фильтрация по списку years\n",
    "filtred_df = df_movies[df_movies['year'].isin(years)]\n",
    "filtred_df"
   ]
  },
  {
   "cell_type": "code",
   "execution_count": null,
   "id": "79d66b18",
   "metadata": {},
   "outputs": [],
   "source": [
    "filtred_df['year'].unique()   #проверка работы фильтрации по списку"
   ]
  },
  {
   "cell_type": "code",
   "execution_count": null,
   "id": "9265387d",
   "metadata": {},
   "outputs": [],
   "source": [
    "#в дата-фрейме df_rating вычисляем средний рейтинг в группировке по movieId\n",
    "average_rating = df_rating.groupby('movieId').agg({'rating': 'mean'}).round(2)"
   ]
  },
  {
   "cell_type": "code",
   "execution_count": null,
   "id": "dda0e9a3",
   "metadata": {},
   "outputs": [],
   "source": [
    "#присоединяем средний рейтинг и сортируем\n",
    "filtred_df.join(average_rating, how='left', on='movieId').sort_values('rating', ascending = False)"
   ]
  },
  {
   "cell_type": "code",
   "execution_count": null,
   "id": "146d6ee6",
   "metadata": {},
   "outputs": [],
   "source": []
  },
  {
   "cell_type": "code",
   "execution_count": null,
   "id": "1fc64d7e",
   "metadata": {},
   "outputs": [],
   "source": []
  },
  {
   "cell_type": "code",
   "execution_count": null,
   "id": "45521a0b",
   "metadata": {},
   "outputs": [],
   "source": []
  },
  {
   "cell_type": "code",
   "execution_count": null,
   "id": "ebbb33e7",
   "metadata": {},
   "outputs": [],
   "source": []
  },
  {
   "cell_type": "code",
   "execution_count": null,
   "id": "ccffa3f3",
   "metadata": {},
   "outputs": [],
   "source": []
  },
  {
   "cell_type": "code",
   "execution_count": null,
   "id": "94e3f7a8",
   "metadata": {},
   "outputs": [],
   "source": [
    "si_prefix = {\n",
    "    'квекто': -30,\n",
    "    'ронто':  -27,\n",
    "    'иокто':  -24,\n",
    "    'зепто':  -21,\n",
    "    'атто':   -18,\n",
    "    'фемто':  -15,\n",
    "    'пико':   -12,\n",
    "    'нано':   -9,\n",
    "    'микро':  -6,\n",
    "    'милли':  -3,\n",
    "    'санти':  -2,\n",
    "    'деци':   -1,\n",
    "    'дека':    1,\n",
    "    'гекто':   2,\n",
    "    'кило':    3,\n",
    "    'мега':    6,\n",
    "    'гига':    9,\n",
    "    'тера':   12,\n",
    "    'пета':   15,\n",
    "    'экса':   18,\n",
    "    'зетта':  21,\n",
    "    'иотта':  24,\n",
    "    'ронна':  27,\n",
    "    'кветта': 30,\n",
    "}"
   ]
  }
 ],
 "metadata": {
  "kernelspec": {
   "display_name": "Python 3 (ipykernel)",
   "language": "python",
   "name": "python3"
  },
  "language_info": {
   "codemirror_mode": {
    "name": "ipython",
    "version": 3
   },
   "file_extension": ".py",
   "mimetype": "text/x-python",
   "name": "python",
   "nbconvert_exporter": "python",
   "pygments_lexer": "ipython3",
   "version": "3.9.13"
  },
  "varInspector": {
   "cols": {
    "lenName": 16,
    "lenType": 16,
    "lenVar": 40
   },
   "kernels_config": {
    "python": {
     "delete_cmd_postfix": "",
     "delete_cmd_prefix": "del ",
     "library": "var_list.py",
     "varRefreshCmd": "print(var_dic_list())"
    },
    "r": {
     "delete_cmd_postfix": ") ",
     "delete_cmd_prefix": "rm(",
     "library": "var_list.r",
     "varRefreshCmd": "cat(var_dic_list()) "
    }
   },
   "types_to_exclude": [
    "module",
    "function",
    "builtin_function_or_method",
    "instance",
    "_Feature"
   ],
   "window_display": false
  }
 },
 "nbformat": 4,
 "nbformat_minor": 5
}
