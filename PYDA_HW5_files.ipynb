{
 "cells": [
  {
   "cell_type": "markdown",
   "id": "4d20d904",
   "metadata": {},
   "source": [
    "Переведите содержимое файла purchase_log.txt в словарь purchases вида: {‘1840e0b9d4’: ‘Продукты’, …}\n",
    "\n",
    "Для каждого user_id в файле visit_log.csv определите третий столбец с категорией покупки, если покупка была, сам файл visit_log.csv изменять не надо. Запишите в файл funnel.csv визиты из файла visit_log.csv, в которых были покупки с указанием категории. Учтите условия на данные: содержимое purchase_log.txt помещается в оперативную память компьютера; содержимое visit_log.csv — нет; используйте только построчную обработку этого файла."
   ]
  },
  {
   "cell_type": "code",
   "execution_count": null,
   "id": "260a02ca",
   "metadata": {},
   "outputs": [],
   "source": [
    "f = open('purchase_log.txt', 'r')"
   ]
  },
  {
   "cell_type": "code",
   "execution_count": null,
   "id": "9372c401",
   "metadata": {},
   "outputs": [],
   "source": [
    "from json import loads\n",
    "f.seek(0)\n",
    "purchase = {}\n",
    "for i, line in enumerate(f):\n",
    "  line = line.strip()\n",
    "  purchase[loads(line)['user_id']] = loads(line)['category']\n",
    "#   if i > 10 : break"
   ]
  },
  {
   "cell_type": "code",
   "execution_count": null,
   "id": "7483b3be",
   "metadata": {},
   "outputs": [],
   "source": [
    "from json import dumps\n",
    "new_line = '\\n'\n",
    "with open('visit_log.csv', 'r') as f_visit:\n",
    "  with open('funnel_2.csv', 'w+') as f_summary:\n",
    "    for i, line in  enumerate(f_visit):\n",
    "      splitted_data = line.split(',')\n",
    "      if splitted_data[0] in purchase.keys():\n",
    "        f_summary.write(dumps(f'{splitted_data[0]}, {splitted_data[1].strip(new_line)}, {purchase[splitted_data[0]]}{new_line}'))\n",
    "      # if i > 150: break"
   ]
  },
  {
   "cell_type": "code",
   "execution_count": null,
   "id": "eade3b72",
   "metadata": {},
   "outputs": [],
   "source": []
  },
  {
   "cell_type": "code",
   "execution_count": null,
   "id": "98326577",
   "metadata": {},
   "outputs": [],
   "source": []
  },
  {
   "cell_type": "code",
   "execution_count": null,
   "id": "ccada94a",
   "metadata": {},
   "outputs": [],
   "source": []
  },
  {
   "cell_type": "code",
   "execution_count": null,
   "id": "5c4900b6",
   "metadata": {},
   "outputs": [],
   "source": []
  },
  {
   "cell_type": "code",
   "execution_count": null,
   "id": "1be61932",
   "metadata": {},
   "outputs": [],
   "source": []
  },
  {
   "cell_type": "code",
   "execution_count": null,
   "id": "5f214072",
   "metadata": {},
   "outputs": [],
   "source": []
  },
  {
   "cell_type": "code",
   "execution_count": null,
   "id": "ab6d3c2d",
   "metadata": {},
   "outputs": [],
   "source": []
  },
  {
   "cell_type": "code",
   "execution_count": null,
   "id": "1c63572b",
   "metadata": {},
   "outputs": [],
   "source": []
  },
  {
   "cell_type": "code",
   "execution_count": null,
   "id": "482c8bf6",
   "metadata": {},
   "outputs": [],
   "source": []
  },
  {
   "cell_type": "code",
   "execution_count": null,
   "id": "dec29511",
   "metadata": {},
   "outputs": [],
   "source": []
  }
 ],
 "metadata": {
  "kernelspec": {
   "display_name": "Python 3 (ipykernel)",
   "language": "python",
   "name": "python3"
  },
  "language_info": {
   "codemirror_mode": {
    "name": "ipython",
    "version": 3
   },
   "file_extension": ".py",
   "mimetype": "text/x-python",
   "name": "python",
   "nbconvert_exporter": "python",
   "pygments_lexer": "ipython3",
   "version": "3.9.13"
  },
  "varInspector": {
   "cols": {
    "lenName": 16,
    "lenType": 16,
    "lenVar": 40
   },
   "kernels_config": {
    "python": {
     "delete_cmd_postfix": "",
     "delete_cmd_prefix": "del ",
     "library": "var_list.py",
     "varRefreshCmd": "print(var_dic_list())"
    },
    "r": {
     "delete_cmd_postfix": ") ",
     "delete_cmd_prefix": "rm(",
     "library": "var_list.r",
     "varRefreshCmd": "cat(var_dic_list()) "
    }
   },
   "types_to_exclude": [
    "module",
    "function",
    "builtin_function_or_method",
    "instance",
    "_Feature"
   ],
   "window_display": false
  }
 },
 "nbformat": 4,
 "nbformat_minor": 5
}
