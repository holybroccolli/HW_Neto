{
 "cells": [
  {
   "cell_type": "markdown",
   "id": "ddd0886d",
   "metadata": {},
   "source": [
    "1. Печатные газеты использовали свой формат дат для каждого выпуска. Для каждой газеты из списка напишите формат указанной даты для перевода в объект datetime: The Moscow Times — Wednesday, October 2, 2002 The Guardian — Friday, 11.10.13 Daily News — Thursday, 18 August 1977"
   ]
  },
  {
   "cell_type": "code",
   "execution_count": null,
   "id": "21499821",
   "metadata": {},
   "outputs": [],
   "source": [
    "from datetime import datetime\n",
    "moscow_times = 'Wednesday, October 2, 2002'\n",
    "mt = datetime.strptime(moscow_times, '%A, %B %d, %Y' )\n",
    "print(mt, type(mt))\n",
    "guardian = 'Friday, 11.10.13'\n",
    "grd = datetime.strptime(guardian, '%A, %d.%m.%y')\n",
    "print(grd, type(grd))\n",
    "daily_news = 'Thursday, 18 August 1977'\n",
    "dn = datetime.strptime(daily_news, '%A, %d %B %Y')\n",
    "print(dn, type(dn))"
   ]
  },
  {
   "cell_type": "markdown",
   "id": "5b536204",
   "metadata": {},
   "source": [
    "2. Дан поток дат в формате YYYY-MM-DD, в которых встречаются некорректные значения: stream = ['2018-04-02', '2018-02-29', '2018-19-02']\n",
    "\n",
    "Напишите функцию, которая проверяет эти даты на корректность. То есть для каждой даты возвращает True — дата корректна или False — некорректная."
   ]
  },
  {
   "cell_type": "code",
   "execution_count": null,
   "id": "34609950",
   "metadata": {},
   "outputs": [],
   "source": [
    "stream = ['2018-04-02', '2018-02-29', '2018-19-02']"
   ]
  },
  {
   "cell_type": "code",
   "execution_count": null,
   "id": "f85e931d",
   "metadata": {},
   "outputs": [],
   "source": [
    "def validate_date_format(list_date):\n",
    "  from datetime import datetime\n",
    "  for check_date in list_date:\n",
    "    try:\n",
    "      print(datetime.strptime(check_date, '%Y-%m-%d'))\n",
    "    except:\n",
    "      print(f\"Дата {check_date} некорректна\")\n",
    "\n",
    "validate_date_format(stream)"
   ]
  },
  {
   "cell_type": "markdown",
   "id": "1faf731c",
   "metadata": {},
   "source": [
    "3. Напишите функцию date_range, которая возвращает список дат за период от start_date до end_date. Даты должны вводиться в формате YYYY-MM-DD. В случае неверного формата или при start_date > end_date должен возвращаться пустой список."
   ]
  },
  {
   "cell_type": "code",
   "execution_count": null,
   "id": "f1f5c2d4",
   "metadata": {},
   "outputs": [],
   "source": [
    "def date_range(start_date_str, end_date_str):\n",
    "    '''\n",
    "      DOCSTRING: Функция возвращает список дат за период [start_date; end_date].\n",
    "      INPUT: Две даты в формате YYYY-MM-YY.\n",
    "      OUTPUT: Список дат между указанными или пустой список в случае ошибки.\n",
    "    '''\n",
    "    from datetime import datetime, timedelta\n",
    "    date_list = []\n",
    "    # parse arguments\n",
    "    try:\n",
    "        start_date = datetime.strptime(start_date_str, '%Y-%m-%d')\n",
    "        end_date = datetime.strptime(end_date_str, '%Y-%m-%d')\n",
    "    except:\n",
    "        return []\n",
    "    # while loop\n",
    "    while start_date <= end_date:\n",
    "        date_list.append(start_date.strftime('%Y-%m-%d'))\n",
    "        start_date += timedelta(days = 1)\n",
    "    return date_list\n",
    "\n",
    "start_date = input('YYYY-MM-DD: ')  #2023-01-31\n",
    "end_date = input('YYYY-MM-DD: ')    #2023-02-14\n",
    "date_range(start_date, end_date)"
   ]
  },
  {
   "cell_type": "markdown",
   "id": "3b972db8",
   "metadata": {},
   "source": [
    "4. Ваш коллега прислал код функции:\n",
    "\n",
    "DEFAULT_USER_COUNT = 3\n",
    "\n",
    "def delete_and_return_last_user(region, default_list=['A100', 'A101', 'A102']): \"\"“ Удаляет из списка default_list последнего пользователя и возвращает ID нового последнего пользователя. ”\"\" element_to_delete = default_list[-1] default_list.remove(element_to_delete)\n",
    "\n",
    "return default_list[DEFAULT_USER_COUNT-2]\n",
    "\n",
    "При однократном вызове этой функции всё работает корректно: delete_and_return_last_user(1) 'A101'\n",
    "\n",
    "Однако при повторном вызове получается ошибка IndexError: list index out of range.\n",
    "\n",
    "Задание:\n",
    "\n",
    "Что значит ошибка list index out of range? Почему при первом запуске функция работает корректно, а при втором — нет?"
   ]
  },
  {
   "cell_type": "code",
   "execution_count": null,
   "id": "b997ed39",
   "metadata": {},
   "outputs": [],
   "source": [
    "DEFAULT_USER_COUNT = 3\n",
    "def delete_and_return_last_user(region, default_list=['A100', 'A101', 'A102']):\n",
    "  \n",
    "  \"\"\"Удаляет из списка default_list последнего пользователя и возвращает \n",
    "  ID нового последнего пользователя. \"\"\" \n",
    "\n",
    "  element_to_delete = default_list[-1] \n",
    "  default_list.remove(element_to_delete)\n",
    "  return default_list[DEFAULT_USER_COUNT-2]\n",
    "\n",
    "delete_and_return_last_user(1)\n",
    "delete_and_return_last_user(1)\n"
   ]
  },
  {
   "cell_type": "markdown",
   "id": "e3fa5619",
   "metadata": {},
   "source": [
    "DEFAULT_USER_COUNT указывает на количество пользователей по умолчанию. После первого вызова функции в default_list остается два элемента, после второго - один. При этом DEFAULT_USER_COUNT-2 дает единицу, а в default_list остался только элемент с индексом \"0\". Таким образом, ошибка означает, что в списке (уже) нет такого количества элементов/пользователей, сколько должно быть по умолчанию."
   ]
  }
 ],
 "metadata": {
  "kernelspec": {
   "display_name": "Python 3 (ipykernel)",
   "language": "python",
   "name": "python3"
  },
  "language_info": {
   "codemirror_mode": {
    "name": "ipython",
    "version": 3
   },
   "file_extension": ".py",
   "mimetype": "text/x-python",
   "name": "python",
   "nbconvert_exporter": "python",
   "pygments_lexer": "ipython3",
   "version": "3.9.13"
  },
  "varInspector": {
   "cols": {
    "lenName": 16,
    "lenType": 16,
    "lenVar": 40
   },
   "kernels_config": {
    "python": {
     "delete_cmd_postfix": "",
     "delete_cmd_prefix": "del ",
     "library": "var_list.py",
     "varRefreshCmd": "print(var_dic_list())"
    },
    "r": {
     "delete_cmd_postfix": ") ",
     "delete_cmd_prefix": "rm(",
     "library": "var_list.r",
     "varRefreshCmd": "cat(var_dic_list()) "
    }
   },
   "types_to_exclude": [
    "module",
    "function",
    "builtin_function_or_method",
    "instance",
    "_Feature"
   ],
   "window_display": false
  }
 },
 "nbformat": 4,
 "nbformat_minor": 5
}
