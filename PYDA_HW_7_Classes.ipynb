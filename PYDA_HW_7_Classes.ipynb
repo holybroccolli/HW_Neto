{
 "cells": [
  {
   "cell_type": "markdown",
   "id": "be082a3b",
   "metadata": {},
   "source": [
    "Напишите функцию, которая возвращает название валюты (поле ‘Name’) с максимальным значением курса с помощью сервиса www.cbr-xml-daily.ru...ly_json.js"
   ]
  },
  {
   "cell_type": "code",
   "execution_count": null,
   "id": "34b41e0d",
   "metadata": {},
   "outputs": [],
   "source": [
    "# coding: utf-8\n",
    "import requests\n",
    "class Rate:\n",
    "    def __init__(self, format='value'):\n",
    "        self.format = format\n",
    "    \n",
    "    def exchange_rates(self):\n",
    "        \"\"\"\n",
    "        Возвращает ответ сервиса с информацией о валютах в виде:\n",
    "        \n",
    "        {\n",
    "            'AMD': {\n",
    "                'CharCode': 'AMD',\n",
    "                'ID': 'R01060',\n",
    "                'Name': 'Армянских драмов',\n",
    "                'Nominal': 100,\n",
    "                'NumCode': '051',\n",
    "                'Previous': 14.103,\n",
    "                'Value': 14.0879\n",
    "                },\n",
    "            ...\n",
    "        }\n",
    "        \"\"\"\n",
    "        r = requests.get('https://www.cbr-xml-daily.ru/daily_json.js')\n",
    "        return r.json()['Valute']\n",
    "    \n",
    "    def make_format(self, currency):\n",
    "        \"\"\"\n",
    "        Возвращает информацию о валюте currency в двух вариантах:\n",
    "        - полная информация о валюте при self.format = 'full':\n",
    "        Rate('full').make_format('EUR')\n",
    "        {\n",
    "            'CharCode': 'EUR',\n",
    "            'ID': 'R01239',\n",
    "            'Name': 'Евро',\n",
    "            'Nominal': 1,\n",
    "            'NumCode': '978',\n",
    "            'Previous': 79.6765,\n",
    "            'Value': 79.4966\n",
    "        }\n",
    "        \n",
    "        Rate('value').make_format('EUR')\n",
    "        79.4966\n",
    "        \"\"\"\n",
    "        response = self.exchange_rates()\n",
    "        \n",
    "        if currency in response:\n",
    "            if self.format == 'full':\n",
    "                return response[currency]\n",
    "            \n",
    "            if self.format == 'value':\n",
    "                return response[currency]['Value']\n",
    "        \n",
    "        return 'Error'   \n",
    "    \n",
    "    def eur(self):\n",
    "        \"\"\"Возвращает курс евро на сегодня в формате self.format\"\"\"\n",
    "        return self.make_format('EUR') \n",
    "    \n",
    "    def usd(self):\n",
    "        \"\"\"Возвращает курс доллара на сегодня в формате self.format\"\"\"\n",
    "        return self.make_format('USD')\n",
    "    \n",
    "    def AZN(self):\n",
    "        \"\"\"Возвращает курс азербайджанского маната на сегодня в формате self.format\"\"\"\n",
    "        return self.make_format('AZN')\n",
    "    "
   ]
  },
  {
   "cell_type": "code",
   "execution_count": null,
   "id": "d5e2a9cc",
   "metadata": {},
   "outputs": [],
   "source": [
    "def max_val_value(init_rate):\n",
    "    max_val = max([v['Value'] for v in init_rate.exchange_rates().values()])\n",
    "    for x in init_rate.exchange_rates().values():\n",
    "        if x['Value'] == max_val:\n",
    "            print(x['Name'], max_val)"
   ]
  },
  {
   "cell_type": "code",
   "execution_count": null,
   "id": "651a6655",
   "metadata": {},
   "outputs": [],
   "source": [
    "rate_list = Rate()\n",
    "max_val_value(rate_list)"
   ]
  },
  {
   "cell_type": "code",
   "execution_count": null,
   "id": "3924385b",
   "metadata": {},
   "outputs": [],
   "source": [
    "#Вариант \n",
    "\n",
    "import requests\n",
    "r = requests.get('https://www.cbr-xml-daily.ru/daily_json.js')\n",
    "\n",
    "data_dict = r.json()['Valute']\n",
    "max(data_dict.items(), key=lambda x: x[1]['Value'])[1]['Name']"
   ]
  },
  {
   "cell_type": "code",
   "execution_count": null,
   "id": "75083f32",
   "metadata": {},
   "outputs": [],
   "source": [
    "dir(Rate)"
   ]
  },
  {
   "cell_type": "markdown",
   "id": "42f7fa17",
   "metadata": {},
   "source": [
    "Добавьте в класс Rate параметр diff (со значениями True или False), который в случае значения True в методах курсов валют (eur, usd итд) будет возвращать не курс валюты, а изменение по сравнению в прошлым значением. Считайте, self.diff будет принимать значение True только при возврате значения курса. При отображении всей информации о валюте он не используется."
   ]
  },
  {
   "cell_type": "code",
   "execution_count": null,
   "id": "9e41357c",
   "metadata": {},
   "outputs": [],
   "source": [
    "# coding: utf-8\n",
    "import requests\n",
    "class Rate:\n",
    "    def __init__(self, format='value', diff = False):\n",
    "        self.format = format\n",
    "        self.diff = diff\n",
    "        self.response = self.exchange_rates()\n",
    "    \n",
    "    def exchange_rates(self):\n",
    "        \"\"\"\n",
    "        Возвращает ответ сервиса с информацией о валютах в виде:\n",
    "        \n",
    "        {\n",
    "            'AMD': {\n",
    "                'CharCode': 'AMD',\n",
    "                'ID': 'R01060',\n",
    "                'Name': 'Армянских драмов',\n",
    "                'Nominal': 100,\n",
    "                'NumCode': '051',\n",
    "                'Previous': 14.103,\n",
    "                'Value': 14.0879\n",
    "                },\n",
    "            ...\n",
    "        }\n",
    "        \"\"\"\n",
    "        r = requests.get('https://www.cbr-xml-daily.ru/daily_json.js')\n",
    "        return r.json()['Valute']\n",
    "    \n",
    "    def make_format(self, currency, diff=False):\n",
    "        \"\"\"\n",
    "        Возвращает информацию о валюте currency в двух вариантах:\n",
    "        - полная информация о валюте при self.format = 'full':\n",
    "        Rate('full').make_format('EUR')\n",
    "        {\n",
    "            'CharCode': 'EUR',\n",
    "            'ID': 'R01239',\n",
    "            'Name': 'Евро',\n",
    "            'Nominal': 1,\n",
    "            'NumCode': '978',\n",
    "            'Previous': 79.6765,\n",
    "            'Value': 79.4966\n",
    "        }\n",
    "        \n",
    "        - изменение курса валюты по сравнению с предыдущим значением, если self.diff = True:\n",
    "        Rate('value', True).make_format('EUR')\n",
    "               \n",
    "        - текущий курс валюты, если self.diff = False и self.format = 'value':\n",
    "        Rate('value', False).make_format('EUR')\n",
    "        \"\"\"\n",
    "\n",
    "        response = self.exchange_rates()\n",
    "        \n",
    "        if currency in response:\n",
    "            if self.format == 'full':\n",
    "                return response[currency]\n",
    "            \n",
    "            if self.format == 'value':\n",
    "              if diff:\n",
    "                return round(response[currency]['Value'] - response[currency]['Previous'], 4)\n",
    "              else:\n",
    "                return response[currency]['Value']\n",
    "        \n",
    "        return 'Error: Currency not found'   \n",
    "    \n",
    "    def eur(self, diff=False):\n",
    "        \"\"\"Возвращает курс евро на сегодня в формате self.format\"\"\"\n",
    "        return self.make_format('EUR', diff) \n",
    "    \n",
    "    def usd(self, diff=False):\n",
    "        \"\"\"Возвращает курс доллара на сегодня в формате self.format\"\"\"\n",
    "        return self.make_format('USD', diff) \n",
    "    \n",
    "    def AZN(self, diff=False):\n",
    "        \"\"\"Возвращает курс азербайджанского маната на сегодня в формате self.format\"\"\"\n",
    "        return self.make_format('AZN', diff)\n",
    "    "
   ]
  },
  {
   "cell_type": "code",
   "execution_count": null,
   "id": "1a857f14",
   "metadata": {},
   "outputs": [],
   "source": [
    "r = Rate()\n",
    "print(r.usd())\n",
    "print(r.usd(diff=True))\n",
    "\n",
    "print(r.eur())\n",
    "print(r.eur(diff=True))\n",
    "\n",
    "print(r.AZN())\n",
    "print(r.AZN(diff=True))"
   ]
  },
  {
   "cell_type": "markdown",
   "id": "3b8c648e",
   "metadata": {},
   "source": [
    "Напишите класс Designer, который учитывает количество международных премий. Подсказки в коде занятия в разделе “Домашнее задание задача 3”.\n",
    "Комментарий по классу Designer такой: Напишите класс Designer, который учитывает количество международных премий для дизайнеров (из презентации: “Повышение на 1 грейд за каждые 7 баллов. Получение международной премии – это +2 балла”). Считайте, что при выходе на работу сотрудник уже имеет две премии и их количество не меняется со стажем (конечно если хотите это можно вручную менять).\n",
    "Класс Designer пишется по аналогии с классом Developer из материалов занятия.\n",
    "(Система повышения сотрудников.\n",
    "Общие условия\n",
    "У сотрудника по умолчанию известно имя и пройденные аккредитации Успешное прохождение –1 балл\n",
    "Разработчики\n",
    "Повышение на 1 грейд за каждые 5 баллов\n",
    "Дизайнеры\n",
    "Повышение на 1 грейд за каждые 7 баллов. Получение международной премии – это +2 балла.\n",
    "Остальные 5 отделов еще не прислали свои условия)"
   ]
  },
  {
   "cell_type": "code",
   "execution_count": null,
   "id": "1f942222",
   "metadata": {},
   "outputs": [],
   "source": [
    "class Employee:\n",
    "    def __init__(self, name, seniority):\n",
    "        self.name = name\n",
    "        self.seniority = seniority\n",
    "        \n",
    "        self.grade = 1\n",
    "    \n",
    "    def grade_up(self):\n",
    "        \"\"\"Повышает уровень сотрудника\"\"\"\n",
    "        self.grade += 1\n",
    "    \n",
    "    def publish_grade(self):\n",
    "        \"\"\"Публикация результатов аккредитации сотрудников\"\"\"\n",
    "        print(self.name, self.grade)\n",
    "    \n",
    "    def check_if_it_is_time_for_upgrade(self):\n",
    "        pass\n",
    "\n",
    "class Developer(Employee):\n",
    "    def __init__(self, name, seniority):\n",
    "        super().__init__(name, seniority)\n",
    "    \n",
    "    def check_if_it_is_time_for_upgrade(self):\n",
    "        # для каждой аккредитации увеличиваем счетчик на 1\n",
    "        # пока считаем, что все разработчики проходят аккредитацию\n",
    "        self.seniority += 1\n",
    "        \n",
    "        # условие повышения сотрудника из презентации\n",
    "        if self.seniority % 5 == 0:\n",
    "            self.grade_up()\n",
    "        \n",
    "        # публикация результатов\n",
    "        return self.publish_grade()\n"
   ]
  },
  {
   "cell_type": "code",
   "execution_count": null,
   "id": "644c2181",
   "metadata": {},
   "outputs": [],
   "source": [
    "class Designer(Employee):\n",
    "    def __init__(self, name, seniority, awards=2):\n",
    "        super().__init__(name, seniority)\n",
    "        self.awards = awards  # количество международных премий\n",
    "    \n",
    "    def check_if_it_is_time_for_upgrade(self):\n",
    "        self.seniority += 1\n",
    "        \n",
    "        # учитываем международные премии\n",
    "        if self.awards > 0:\n",
    "            self.awards -= 1\n",
    "            self.seniority += 2\n",
    "        \n",
    "        if self.seniority % 7 == 0:\n",
    "            self.grade_up()\n",
    "        \n",
    "        return self.publish_grade()"
   ]
  },
  {
   "cell_type": "code",
   "execution_count": null,
   "id": "fd54fff1",
   "metadata": {},
   "outputs": [],
   "source": [
    "serge = Designer('Сергей', 1)"
   ]
  },
  {
   "cell_type": "code",
   "execution_count": null,
   "id": "67446257",
   "metadata": {},
   "outputs": [],
   "source": [
    "serge.__dict__"
   ]
  },
  {
   "cell_type": "code",
   "execution_count": null,
   "id": "48952a8f",
   "metadata": {},
   "outputs": [],
   "source": [
    "serge.grade_up()"
   ]
  }
 ],
 "metadata": {
  "kernelspec": {
   "display_name": "Python 3 (ipykernel)",
   "language": "python",
   "name": "python3"
  },
  "language_info": {
   "codemirror_mode": {
    "name": "ipython",
    "version": 3
   },
   "file_extension": ".py",
   "mimetype": "text/x-python",
   "name": "python",
   "nbconvert_exporter": "python",
   "pygments_lexer": "ipython3",
   "version": "3.9.13"
  },
  "varInspector": {
   "cols": {
    "lenName": 16,
    "lenType": 16,
    "lenVar": 40
   },
   "kernels_config": {
    "python": {
     "delete_cmd_postfix": "",
     "delete_cmd_prefix": "del ",
     "library": "var_list.py",
     "varRefreshCmd": "print(var_dic_list())"
    },
    "r": {
     "delete_cmd_postfix": ") ",
     "delete_cmd_prefix": "rm(",
     "library": "var_list.r",
     "varRefreshCmd": "cat(var_dic_list()) "
    }
   },
   "types_to_exclude": [
    "module",
    "function",
    "builtin_function_or_method",
    "instance",
    "_Feature"
   ],
   "window_display": false
  }
 },
 "nbformat": 4,
 "nbformat_minor": 5
}
