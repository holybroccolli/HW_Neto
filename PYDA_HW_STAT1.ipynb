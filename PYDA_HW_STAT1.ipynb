{
 "cells": [
  {
   "cell_type": "markdown",
   "id": "53c7ed70",
   "metadata": {},
   "source": [
    "## Домашнее задание к лекции \"Базовые понятия статистики\"\n",
    "Будем осуществлять работу с непростым набором данных о состоянии здоровья лошадей, испытывающих кишечные колики. Цель – максимально корректно заполнить пропуски."
   ]
  },
  {
   "cell_type": "markdown",
   "id": "c7609bfe",
   "metadata": {},
   "source": [
    "### Задание 1. Загрузка данных\n",
    "Изучить представленный набор данных на основе описания его столбцов, загрузить его и оставить 8 столбцов для дальнейшего изучения: surgery?, Age, rectal temperature, pulse, respiratory rate, temperature of extremities, pain, outcome."
   ]
  },
  {
   "cell_type": "code",
   "execution_count": 779,
   "id": "4a5359fd",
   "metadata": {
    "ExecuteTime": {
     "end_time": "2023-05-03T19:46:57.653991Z",
     "start_time": "2023-05-03T19:46:57.630090Z"
    },
    "code_folding": [
     1
    ]
   },
   "outputs": [],
   "source": [
    "from re import search, split\n",
    "with open('horse_data.names', 'r') as f:\n",
    "    columns_all = []\n",
    "    for line in f:\n",
    "        if search(\"\\d+:\", line) != None:\n",
    "            columns_all.append((split(\"\\d+:\", line)[1].strip(': \\n')).lower())"
   ]
  },
  {
   "cell_type": "code",
   "execution_count": 780,
   "id": "6ff90da9",
   "metadata": {
    "ExecuteTime": {
     "end_time": "2023-05-03T19:46:58.180535Z",
     "start_time": "2023-05-03T19:46:58.164354Z"
    }
   },
   "outputs": [
    {
     "data": {
      "text/plain": [
       "['surgery?',\n",
       " 'age',\n",
       " 'hospital number',\n",
       " 'rectal temperature',\n",
       " 'pulse',\n",
       " 'respiratory rate',\n",
       " 'temperature of extremities',\n",
       " 'peripheral pulse',\n",
       " 'mucous membranes',\n",
       " 'capillary refill time',\n",
       " 'pain',\n",
       " 'peristalsis',\n",
       " 'abdominal distension',\n",
       " 'nasogastric tube',\n",
       " 'nasogastric reflux',\n",
       " 'nasogastric reflux ph',\n",
       " 'rectal examination - feces',\n",
       " 'abdomen',\n",
       " 'packed cell volume',\n",
       " 'total protein',\n",
       " 'abdominocentesis appearance',\n",
       " 'abdomcentesis total protein',\n",
       " 'outcome',\n",
       " 'surgical lesion?',\n",
       " 'type of lesion_1',\n",
       " 'type of lesion_2',\n",
       " 'type of lesion_3',\n",
       " 'cp_data']"
      ]
     },
     "execution_count": 780,
     "metadata": {},
     "output_type": "execute_result"
    }
   ],
   "source": [
    "columns_all"
   ]
  },
  {
   "cell_type": "code",
   "execution_count": 781,
   "id": "b88072c9",
   "metadata": {
    "ExecuteTime": {
     "end_time": "2023-05-03T19:46:59.444925Z",
     "start_time": "2023-05-03T19:46:59.421648Z"
    },
    "code_folding": [
     0
    ]
   },
   "outputs": [],
   "source": [
    "columns_required = [\n",
    "    \"surgery?\",                     #category\n",
    "    \"age\",                          #category\n",
    "    \"rectal temperature\",           #linear \n",
    "    \"pulse\",                        #linear\n",
    "    \"respiratory rate\",             #linear\n",
    "    \"temperature of extremities\",   #category\n",
    "    \"pain\",                         #category\n",
    "    \"outcome\"                       #category\n",
    "]                      "
   ]
  },
  {
   "cell_type": "code",
   "execution_count": 782,
   "id": "9364cd83",
   "metadata": {
    "ExecuteTime": {
     "end_time": "2023-05-03T19:47:00.768917Z",
     "start_time": "2023-05-03T19:47:00.758590Z"
    }
   },
   "outputs": [],
   "source": [
    "import pandas as pd\n",
    "import numpy as np\n",
    "import seaborn as sns"
   ]
  },
  {
   "cell_type": "code",
   "execution_count": 783,
   "id": "70bdc6a8",
   "metadata": {
    "ExecuteTime": {
     "end_time": "2023-05-03T19:47:01.445583Z",
     "start_time": "2023-05-03T19:47:01.397417Z"
    },
    "code_folding": []
   },
   "outputs": [
    {
     "data": {
      "text/html": [
       "<div>\n",
       "<style scoped>\n",
       "    .dataframe tbody tr th:only-of-type {\n",
       "        vertical-align: middle;\n",
       "    }\n",
       "\n",
       "    .dataframe tbody tr th {\n",
       "        vertical-align: top;\n",
       "    }\n",
       "\n",
       "    .dataframe thead th {\n",
       "        text-align: right;\n",
       "    }\n",
       "</style>\n",
       "<table border=\"1\" class=\"dataframe\">\n",
       "  <thead>\n",
       "    <tr style=\"text-align: right;\">\n",
       "      <th></th>\n",
       "      <th>surgery?</th>\n",
       "      <th>age</th>\n",
       "      <th>rectal temperature</th>\n",
       "      <th>pulse</th>\n",
       "      <th>respiratory rate</th>\n",
       "      <th>temperature of extremities</th>\n",
       "      <th>pain</th>\n",
       "      <th>outcome</th>\n",
       "    </tr>\n",
       "  </thead>\n",
       "  <tbody>\n",
       "    <tr>\n",
       "      <th>0</th>\n",
       "      <td>2.0</td>\n",
       "      <td>1</td>\n",
       "      <td>38.5</td>\n",
       "      <td>66.0</td>\n",
       "      <td>28.0</td>\n",
       "      <td>3.0</td>\n",
       "      <td>5.0</td>\n",
       "      <td>2.0</td>\n",
       "    </tr>\n",
       "    <tr>\n",
       "      <th>1</th>\n",
       "      <td>1.0</td>\n",
       "      <td>1</td>\n",
       "      <td>39.2</td>\n",
       "      <td>88.0</td>\n",
       "      <td>20.0</td>\n",
       "      <td>NaN</td>\n",
       "      <td>3.0</td>\n",
       "      <td>3.0</td>\n",
       "    </tr>\n",
       "    <tr>\n",
       "      <th>2</th>\n",
       "      <td>2.0</td>\n",
       "      <td>1</td>\n",
       "      <td>38.3</td>\n",
       "      <td>40.0</td>\n",
       "      <td>24.0</td>\n",
       "      <td>1.0</td>\n",
       "      <td>3.0</td>\n",
       "      <td>1.0</td>\n",
       "    </tr>\n",
       "    <tr>\n",
       "      <th>3</th>\n",
       "      <td>1.0</td>\n",
       "      <td>9</td>\n",
       "      <td>39.1</td>\n",
       "      <td>164.0</td>\n",
       "      <td>84.0</td>\n",
       "      <td>4.0</td>\n",
       "      <td>2.0</td>\n",
       "      <td>2.0</td>\n",
       "    </tr>\n",
       "    <tr>\n",
       "      <th>4</th>\n",
       "      <td>2.0</td>\n",
       "      <td>1</td>\n",
       "      <td>37.3</td>\n",
       "      <td>104.0</td>\n",
       "      <td>35.0</td>\n",
       "      <td>NaN</td>\n",
       "      <td>NaN</td>\n",
       "      <td>2.0</td>\n",
       "    </tr>\n",
       "  </tbody>\n",
       "</table>\n",
       "</div>"
      ],
      "text/plain": [
       "   surgery?  age  rectal temperature  pulse  respiratory rate  \\\n",
       "0       2.0    1                38.5   66.0              28.0   \n",
       "1       1.0    1                39.2   88.0              20.0   \n",
       "2       2.0    1                38.3   40.0              24.0   \n",
       "3       1.0    9                39.1  164.0              84.0   \n",
       "4       2.0    1                37.3  104.0              35.0   \n",
       "\n",
       "   temperature of extremities  pain  outcome  \n",
       "0                         3.0   5.0      2.0  \n",
       "1                         NaN   3.0      3.0  \n",
       "2                         1.0   3.0      1.0  \n",
       "3                         4.0   2.0      2.0  \n",
       "4                         NaN   NaN      2.0  "
      ]
     },
     "execution_count": 783,
     "metadata": {},
     "output_type": "execute_result"
    }
   ],
   "source": [
    "df_horses = pd.read_csv('horse_data.csv', #файл в корне Jupyter Root\n",
    "                        header=None, #заголовков нет\n",
    "                        names=columns_all, #названия всех колонок\n",
    "                        usecols=columns_required, #используемые колонки\n",
    "                        na_values='?', #замена \"?\" на NaN\n",
    "                        )\n",
    "df_horses.head(5)"
   ]
  },
  {
   "cell_type": "markdown",
   "id": "508b6a08",
   "metadata": {},
   "source": [
    "### Задание 2. Первичное изучение данных\n",
    "Проанализировать значения по столбцам, рассчитать базовые статистики, найти выбросы."
   ]
  },
  {
   "cell_type": "code",
   "execution_count": 784,
   "id": "04d3dcfe",
   "metadata": {
    "ExecuteTime": {
     "end_time": "2023-05-03T19:47:08.879410Z",
     "start_time": "2023-05-03T19:47:08.847516Z"
    }
   },
   "outputs": [
    {
     "name": "stdout",
     "output_type": "stream",
     "text": [
      "<class 'pandas.core.frame.DataFrame'>\n",
      "RangeIndex: 300 entries, 0 to 299\n",
      "Data columns (total 8 columns):\n",
      " #   Column                      Non-Null Count  Dtype  \n",
      "---  ------                      --------------  -----  \n",
      " 0   surgery?                    299 non-null    float64\n",
      " 1   age                         300 non-null    int64  \n",
      " 2   rectal temperature          240 non-null    float64\n",
      " 3   pulse                       276 non-null    float64\n",
      " 4   respiratory rate            242 non-null    float64\n",
      " 5   temperature of extremities  244 non-null    float64\n",
      " 6   pain                        245 non-null    float64\n",
      " 7   outcome                     299 non-null    float64\n",
      "dtypes: float64(7), int64(1)\n",
      "memory usage: 18.9 KB\n"
     ]
    }
   ],
   "source": [
    "df_horses.info()"
   ]
  },
  {
   "cell_type": "code",
   "execution_count": 785,
   "id": "5f77284e",
   "metadata": {
    "ExecuteTime": {
     "end_time": "2023-05-03T19:47:10.317819Z",
     "start_time": "2023-05-03T19:47:10.286263Z"
    }
   },
   "outputs": [
    {
     "name": "stdout",
     "output_type": "stream",
     "text": [
      "<class 'pandas.core.frame.DataFrame'>\n",
      "RangeIndex: 300 entries, 0 to 299\n",
      "Data columns (total 8 columns):\n",
      " #   Column                      Non-Null Count  Dtype  \n",
      "---  ------                      --------------  -----  \n",
      " 0   surgery?                    299 non-null    Int64  \n",
      " 1   age                         300 non-null    Int64  \n",
      " 2   rectal temperature          240 non-null    Float64\n",
      " 3   pulse                       276 non-null    Int64  \n",
      " 4   respiratory rate            242 non-null    Int64  \n",
      " 5   temperature of extremities  244 non-null    Int64  \n",
      " 6   pain                        245 non-null    Int64  \n",
      " 7   outcome                     299 non-null    Int64  \n",
      "dtypes: Float64(1), Int64(7)\n",
      "memory usage: 21.2 KB\n"
     ]
    }
   ],
   "source": [
    "# оптимизация типов данных\n",
    "df_horses.convert_dtypes().info()"
   ]
  },
  {
   "cell_type": "code",
   "execution_count": 786,
   "id": "264ed5ea",
   "metadata": {
    "ExecuteTime": {
     "end_time": "2023-05-03T19:47:42.671321Z",
     "start_time": "2023-05-03T19:47:42.647973Z"
    }
   },
   "outputs": [
    {
     "data": {
      "text/plain": [
       "surgery?                       1\n",
       "age                            0\n",
       "rectal temperature            60\n",
       "pulse                         24\n",
       "respiratory rate              58\n",
       "temperature of extremities    56\n",
       "pain                          55\n",
       "outcome                        1\n",
       "dtype: int64"
      ]
     },
     "execution_count": 786,
     "metadata": {},
     "output_type": "execute_result"
    }
   ],
   "source": [
    "df_horses.isnull().sum()   #определение количества пропусков"
   ]
  },
  {
   "cell_type": "code",
   "execution_count": 810,
   "id": "e5291d93",
   "metadata": {
    "ExecuteTime": {
     "end_time": "2023-05-03T19:57:00.053481Z",
     "start_time": "2023-05-03T19:57:00.030058Z"
    }
   },
   "outputs": [],
   "source": [
    "df_linear = df_horses[[\"rectal temperature\", \"pulse\", \"respiratory rate\"]]\n",
    "# df_category = df_horses[[\"surgery?\", \"age\", \"temperature of extremities\", \"pain\", \"outcome\"]]"
   ]
  },
  {
   "cell_type": "markdown",
   "id": "8bb3d5a9",
   "metadata": {},
   "source": [
    "# linear. одномерный анализ"
   ]
  },
  {
   "cell_type": "code",
   "execution_count": 848,
   "id": "19679f2f",
   "metadata": {
    "ExecuteTime": {
     "end_time": "2023-05-03T20:14:47.983672Z",
     "start_time": "2023-05-03T20:14:47.344554Z"
    }
   },
   "outputs": [
    {
     "data": {
      "text/plain": [
       "array([<AxesSubplot:ylabel='Frequency'>, <AxesSubplot:ylabel='Frequency'>,\n",
       "       <AxesSubplot:ylabel='Frequency'>], dtype=object)"
      ]
     },
     "execution_count": 848,
     "metadata": {},
     "output_type": "execute_result"
    },
    {
     "data": {
      "image/png": "[encoded data removed]",
      "text/plain": [
       "<Figure size 640x480 with 3 Axes>"
      ]
     },
     "metadata": {},
     "output_type": "display_data"
    }
   ],
   "source": [
    "df_horses[[\"rectal temperature\", \"pulse\", \"respiratory rate\"]]\\\n",
    "                            .plot(kind='hist', \n",
    "                                  subplots=True, \n",
    "                                  use_index=False)"
   ]
  },
  {
   "cell_type": "code",
   "execution_count": 850,
   "id": "e11c5cdb",
   "metadata": {
    "ExecuteTime": {
     "end_time": "2023-05-03T20:14:52.145077Z",
     "start_time": "2023-05-03T20:14:52.128961Z"
    }
   },
   "outputs": [],
   "source": [
    "def outlierless(df, series):\n",
    "    \"\"\"\n",
    "    DOCSTRING: Exclusion of outliers from the dataframe by the IQR-method \n",
    "    INPUT: DataFrame, atribut \n",
    "    OUTPUT: describe().T initial df / describe().T outlierless df\n",
    "    \"\"\"\n",
    "    q1 = df[series].quantile(.25)\n",
    "    q3 = df[series].quantile(.75)\n",
    "    iqr = (q3 - q1).round(2)\n",
    "    lower_threshold = (q1 - 1.5 * iqr).round(2)\n",
    "    upper_threshold = (q3 + 1.5 * iqr).round(2)\n",
    "    outlierless_ = df[df[series].between(lower_threshold, upper_threshold)]\n",
    "    return outlierless_"
   ]
  },
  {
   "cell_type": "markdown",
   "id": "e2c2b33f",
   "metadata": {
    "deletable": false,
    "editable": false
   },
   "source": [
    "### Rectal temperature"
   ]
  },
  {
   "cell_type": "code",
   "execution_count": 851,
   "id": "f845ce37",
   "metadata": {
    "ExecuteTime": {
     "end_time": "2023-05-03T20:14:54.329164Z",
     "start_time": "2023-05-03T20:14:54.080985Z"
    },
    "scrolled": false
   },
   "outputs": [
    {
     "data": {
      "text/plain": [
       "<AxesSubplot:title={'center':'Hist of [Rectal temperature]'}, ylabel='Frequency'>"
      ]
     },
     "execution_count": 851,
     "metadata": {},
     "output_type": "execute_result"
    },
    {
     "data": {
      "image/png": "[encoded data removed]",
      "text/plain": [
       "<Figure size 640x480 with 1 Axes>"
      ]
     },
     "metadata": {},
     "output_type": "display_data"
    }
   ],
   "source": [
    "#Частотное распределение\n",
    "df_horses['rectal temperature'].plot(kind='hist', \n",
    "                                     title='Hist of [Rectal temperature]')"
   ]
  },
  {
   "cell_type": "code",
   "execution_count": 852,
   "id": "5f865500",
   "metadata": {
    "ExecuteTime": {
     "end_time": "2023-05-03T20:14:59.864395Z",
     "start_time": "2023-05-03T20:14:59.689936Z"
    }
   },
   "outputs": [
    {
     "data": {
      "text/plain": [
       "<AxesSubplot:title={'center':'Boxplot of [Rectal temperature]'}>"
      ]
     },
     "execution_count": 852,
     "metadata": {},
     "output_type": "execute_result"
    },
    {
     "data": {
      "image/png": "[encoded data removed]",
      "text/plain": [
       "<Figure size 640x480 with 1 Axes>"
      ]
     },
     "metadata": {},
     "output_type": "display_data"
    }
   ],
   "source": [
    "# посмотреть на выбросы\n",
    "df_horses['rectal temperature'].plot(kind='box', \n",
    "                                     title='Boxplot of [Rectal temperature]')"
   ]
  },
  {
   "cell_type": "code",
   "execution_count": 853,
   "id": "5f93983a",
   "metadata": {
    "ExecuteTime": {
     "end_time": "2023-05-03T20:15:03.113927Z",
     "start_time": "2023-05-03T20:15:03.105941Z"
    }
   },
   "outputs": [],
   "source": [
    "#  4:  rectal temperature\n",
    "#           - linear\n",
    "#           - in degrees celsius.\n",
    "#           - An elevated temp may occur due to infection.\n",
    "#           - temperature may be reduced when the animal is in late shock\n",
    "#           - normal temp is 37.8\n",
    "#           - this parameter will usually change as the problem progresses\n",
    "#                eg. may start out normal, then become elevated because of\n",
    "#                    the lesion, passing back through the normal range as the\n",
    "#                    horse goes into shock"
   ]
  },
  {
   "cell_type": "code",
   "execution_count": 854,
   "id": "416733db",
   "metadata": {
    "ExecuteTime": {
     "end_time": "2023-05-03T20:15:07.016356Z",
     "start_time": "2023-05-03T20:15:07.000757Z"
    },
    "scrolled": false
   },
   "outputs": [],
   "source": [
    "# распределение близко к нормальному, применение оправдано\n",
    "rt_outlierless = outlierless(df_linear, 'rectal temperature')"
   ]
  },
  {
   "cell_type": "code",
   "execution_count": 856,
   "id": "23f4bdb4",
   "metadata": {
    "ExecuteTime": {
     "end_time": "2023-05-03T20:15:44.644209Z",
     "start_time": "2023-05-03T20:15:44.466696Z"
    },
    "scrolled": false
   },
   "outputs": [
    {
     "data": {
      "text/plain": [
       "<AxesSubplot:title={'center':'Boxplot of [Rectal temperature] without outliers'}>"
      ]
     },
     "execution_count": 856,
     "metadata": {},
     "output_type": "execute_result"
    },
    {
     "data": {
      "image/png": "[encoded data removed]",
      "text/plain": [
       "<Figure size 640x480 with 1 Axes>"
      ]
     },
     "metadata": {},
     "output_type": "display_data"
    }
   ],
   "source": [
    "# выбросы исключены\n",
    "rt_outlierless['rectal temperature'].plot(kind='box', \n",
    "                                          title='Boxplot of [Rectal temperature] without outliers')"
   ]
  },
  {
   "cell_type": "code",
   "execution_count": 857,
   "id": "da3ddbb8",
   "metadata": {
    "ExecuteTime": {
     "end_time": "2023-05-03T20:15:51.064163Z",
     "start_time": "2023-05-03T20:15:51.031862Z"
    }
   },
   "outputs": [
    {
     "data": {
      "text/html": [
       "<div>\n",
       "<style scoped>\n",
       "    .dataframe tbody tr th:only-of-type {\n",
       "        vertical-align: middle;\n",
       "    }\n",
       "\n",
       "    .dataframe tbody tr th {\n",
       "        vertical-align: top;\n",
       "    }\n",
       "\n",
       "    .dataframe thead th {\n",
       "        text-align: right;\n",
       "    }\n",
       "</style>\n",
       "<table border=\"1\" class=\"dataframe\">\n",
       "  <thead>\n",
       "    <tr style=\"text-align: right;\">\n",
       "      <th></th>\n",
       "      <th>count</th>\n",
       "      <th>mean</th>\n",
       "      <th>std</th>\n",
       "      <th>min</th>\n",
       "      <th>25%</th>\n",
       "      <th>50%</th>\n",
       "      <th>75%</th>\n",
       "      <th>max</th>\n",
       "    </tr>\n",
       "  </thead>\n",
       "  <tbody>\n",
       "    <tr>\n",
       "      <th>rectal temperature</th>\n",
       "      <td>240.0</td>\n",
       "      <td>38.167917</td>\n",
       "      <td>0.732289</td>\n",
       "      <td>35.4</td>\n",
       "      <td>37.8</td>\n",
       "      <td>38.2</td>\n",
       "      <td>38.5</td>\n",
       "      <td>40.8</td>\n",
       "    </tr>\n",
       "    <tr>\n",
       "      <th>rectal temperature</th>\n",
       "      <td>226.0</td>\n",
       "      <td>38.169027</td>\n",
       "      <td>0.571949</td>\n",
       "      <td>36.8</td>\n",
       "      <td>37.8</td>\n",
       "      <td>38.2</td>\n",
       "      <td>38.5</td>\n",
       "      <td>39.5</td>\n",
       "    </tr>\n",
       "  </tbody>\n",
       "</table>\n",
       "</div>"
      ],
      "text/plain": [
       "                    count       mean       std   min   25%   50%   75%   max\n",
       "rectal temperature  240.0  38.167917  0.732289  35.4  37.8  38.2  38.5  40.8\n",
       "rectal temperature  226.0  38.169027  0.571949  36.8  37.8  38.2  38.5  39.5"
      ]
     },
     "execution_count": 857,
     "metadata": {},
     "output_type": "execute_result"
    }
   ],
   "source": [
    "# сравнить основные описательные статистики\n",
    "pd.concat([df_linear['rectal temperature'].describe(), rt_outlierless['rectal temperature'].describe()], axis=1).T"
   ]
  },
  {
   "cell_type": "markdown",
   "id": "158300f1",
   "metadata": {},
   "source": [
    "### Pulse"
   ]
  },
  {
   "cell_type": "code",
   "execution_count": 858,
   "id": "40d12b5b",
   "metadata": {
    "ExecuteTime": {
     "end_time": "2023-05-03T20:15:54.161643Z",
     "start_time": "2023-05-03T20:15:53.963206Z"
    },
    "scrolled": false
   },
   "outputs": [
    {
     "data": {
      "text/plain": [
       "<AxesSubplot:title={'center':'Hist of [Pulse]'}, ylabel='Frequency'>"
      ]
     },
     "execution_count": 858,
     "metadata": {},
     "output_type": "execute_result"
    },
    {
     "data": {
      "image/png": "[encoded data removed]",
      "text/plain": [
       "<Figure size 640x480 with 1 Axes>"
      ]
     },
     "metadata": {},
     "output_type": "display_data"
    }
   ],
   "source": [
    "#Частотное распределение\n",
    "df_horses['pulse'].plot(kind='hist', title='Hist of [Pulse]')"
   ]
  },
  {
   "cell_type": "code",
   "execution_count": 859,
   "id": "a4f97e87",
   "metadata": {
    "ExecuteTime": {
     "end_time": "2023-05-03T20:15:59.839938Z",
     "start_time": "2023-05-03T20:15:59.666379Z"
    },
    "scrolled": false
   },
   "outputs": [
    {
     "data": {
      "text/plain": [
       "<AxesSubplot:title={'center':'Boxplot of [Pulse]'}>"
      ]
     },
     "execution_count": 859,
     "metadata": {},
     "output_type": "execute_result"
    },
    {
     "data": {
      "image/png": "[encoded data removed]",
      "text/plain": [
       "<Figure size 640x480 with 1 Axes>"
      ]
     },
     "metadata": {},
     "output_type": "display_data"
    }
   ],
   "source": [
    "# посмотреть на выбросы\n",
    "df_horses['pulse'].plot(kind='box', \n",
    "                        title='Boxplot of [Pulse]')"
   ]
  },
  {
   "cell_type": "code",
   "execution_count": 528,
   "id": "dcd08fb6",
   "metadata": {
    "ExecuteTime": {
     "end_time": "2023-05-03T08:44:50.280583Z",
     "start_time": "2023-05-03T08:44:50.266572Z"
    }
   },
   "outputs": [],
   "source": [
    "# 5:  pulse\n",
    "#           - linear\n",
    "#           - the heart rate in beats per minute\n",
    "#           - is a reflection of the heart condition: 30 -40 is normal for adults\n",
    "#           - rare to have a lower than normal rate although athletic horses\n",
    "#             may have a rate of 20-25\n",
    "#           - animals with painful lesions or suffering from circulatory shock\n",
    "#             may have an elevated heart rate"
   ]
  },
  {
   "cell_type": "code",
   "execution_count": 860,
   "id": "5d0912c3",
   "metadata": {
    "ExecuteTime": {
     "end_time": "2023-05-03T20:16:12.398340Z",
     "start_time": "2023-05-03T20:16:12.374473Z"
    },
    "scrolled": false
   },
   "outputs": [],
   "source": [
    "# распределение не нормальное, удаление выбросов не оправдано (много значений исключается)\n",
    "pulse_outlierless = outlierless(df_linear, 'pulse')"
   ]
  },
  {
   "cell_type": "code",
   "execution_count": 863,
   "id": "d9d5860d",
   "metadata": {
    "ExecuteTime": {
     "end_time": "2023-05-03T20:17:40.359390Z",
     "start_time": "2023-05-03T20:17:40.183233Z"
    },
    "scrolled": false
   },
   "outputs": [
    {
     "data": {
      "text/plain": [
       "<AxesSubplot:title={'center':'Boxplot of [Pulse] without outliers'}>"
      ]
     },
     "execution_count": 863,
     "metadata": {},
     "output_type": "execute_result"
    },
    {
     "data": {
      "image/png": "[encoded data removed]",
      "text/plain": [
       "<Figure size 640x480 with 1 Axes>"
      ]
     },
     "metadata": {},
     "output_type": "display_data"
    }
   ],
   "source": [
    "# выбросы исключены\n",
    "pulse_outlierless['pulse'].plot(kind='box', \n",
    "                                title='Boxplot of [Pulse] without outliers')"
   ]
  },
  {
   "cell_type": "code",
   "execution_count": 864,
   "id": "044329f2",
   "metadata": {
    "ExecuteTime": {
     "end_time": "2023-05-03T20:17:44.006182Z",
     "start_time": "2023-05-03T20:17:43.966229Z"
    },
    "scrolled": true
   },
   "outputs": [
    {
     "data": {
      "text/html": [
       "<div>\n",
       "<style scoped>\n",
       "    .dataframe tbody tr th:only-of-type {\n",
       "        vertical-align: middle;\n",
       "    }\n",
       "\n",
       "    .dataframe tbody tr th {\n",
       "        vertical-align: top;\n",
       "    }\n",
       "\n",
       "    .dataframe thead th {\n",
       "        text-align: right;\n",
       "    }\n",
       "</style>\n",
       "<table border=\"1\" class=\"dataframe\">\n",
       "  <thead>\n",
       "    <tr style=\"text-align: right;\">\n",
       "      <th></th>\n",
       "      <th>count</th>\n",
       "      <th>mean</th>\n",
       "      <th>std</th>\n",
       "      <th>min</th>\n",
       "      <th>25%</th>\n",
       "      <th>50%</th>\n",
       "      <th>75%</th>\n",
       "      <th>max</th>\n",
       "    </tr>\n",
       "  </thead>\n",
       "  <tbody>\n",
       "    <tr>\n",
       "      <th>pulse</th>\n",
       "      <td>276.0</td>\n",
       "      <td>71.913043</td>\n",
       "      <td>28.630557</td>\n",
       "      <td>30.0</td>\n",
       "      <td>48.0</td>\n",
       "      <td>64.0</td>\n",
       "      <td>88.0</td>\n",
       "      <td>184.0</td>\n",
       "    </tr>\n",
       "    <tr>\n",
       "      <th>pulse</th>\n",
       "      <td>271.0</td>\n",
       "      <td>70.258303</td>\n",
       "      <td>26.082484</td>\n",
       "      <td>30.0</td>\n",
       "      <td>48.0</td>\n",
       "      <td>64.0</td>\n",
       "      <td>88.0</td>\n",
       "      <td>146.0</td>\n",
       "    </tr>\n",
       "  </tbody>\n",
       "</table>\n",
       "</div>"
      ],
      "text/plain": [
       "       count       mean        std   min   25%   50%   75%    max\n",
       "pulse  276.0  71.913043  28.630557  30.0  48.0  64.0  88.0  184.0\n",
       "pulse  271.0  70.258303  26.082484  30.0  48.0  64.0  88.0  146.0"
      ]
     },
     "execution_count": 864,
     "metadata": {},
     "output_type": "execute_result"
    }
   ],
   "source": [
    "# сравнить основные описательные статистики\n",
    "pd.concat([df_linear['pulse'].describe(), pulse_outlierless['pulse'].describe()], axis=1).T"
   ]
  },
  {
   "cell_type": "markdown",
   "id": "1ea08ceb",
   "metadata": {},
   "source": [
    "### Respiratory rate"
   ]
  },
  {
   "cell_type": "code",
   "execution_count": 865,
   "id": "06859c41",
   "metadata": {
    "ExecuteTime": {
     "end_time": "2023-05-03T20:17:47.095773Z",
     "start_time": "2023-05-03T20:17:46.863978Z"
    },
    "scrolled": false
   },
   "outputs": [
    {
     "data": {
      "text/plain": [
       "<AxesSubplot:title={'center':'Hist of [Respiratory rate]'}, ylabel='Frequency'>"
      ]
     },
     "execution_count": 865,
     "metadata": {},
     "output_type": "execute_result"
    },
    {
     "data": {
      "image/png": "[encoded data removed]",
      "text/plain": [
       "<Figure size 640x480 with 1 Axes>"
      ]
     },
     "metadata": {},
     "output_type": "display_data"
    }
   ],
   "source": [
    "#Частотное распределение\n",
    "df_horses['respiratory rate'].plot(kind='hist', \n",
    "                                   title='Hist of [Respiratory rate]')"
   ]
  },
  {
   "cell_type": "code",
   "execution_count": 866,
   "id": "5d3eeaff",
   "metadata": {
    "ExecuteTime": {
     "end_time": "2023-05-03T20:17:49.674793Z",
     "start_time": "2023-05-03T20:17:49.510412Z"
    },
    "scrolled": false
   },
   "outputs": [
    {
     "data": {
      "text/plain": [
       "<AxesSubplot:title={'center':'Boxplot of [Respiratory rate]'}>"
      ]
     },
     "execution_count": 866,
     "metadata": {},
     "output_type": "execute_result"
    },
    {
     "data": {
      "image/png": "[encoded data removed]",
      "text/plain": [
       "<Figure size 640x480 with 1 Axes>"
      ]
     },
     "metadata": {},
     "output_type": "display_data"
    }
   ],
   "source": [
    "# посмотреть на выбросы\n",
    "df_horses['respiratory rate'].plot(kind='box', title='Boxplot of [Respiratory rate]')"
   ]
  },
  {
   "cell_type": "code",
   "execution_count": 533,
   "id": "04c0803f",
   "metadata": {
    "ExecuteTime": {
     "end_time": "2023-05-03T08:45:55.871153Z",
     "start_time": "2023-05-03T08:45:55.855858Z"
    }
   },
   "outputs": [],
   "source": [
    "#  6:  respiratory rate\n",
    "#           - linear\n",
    "#           - normal rate is 8 to 10\n",
    "#           - usefulness is doubtful due to the great fluctuations"
   ]
  },
  {
   "cell_type": "code",
   "execution_count": 868,
   "id": "7514f277",
   "metadata": {
    "ExecuteTime": {
     "end_time": "2023-05-03T20:18:04.478585Z",
     "start_time": "2023-05-03T20:18:04.462436Z"
    },
    "scrolled": true
   },
   "outputs": [],
   "source": [
    "# распределение не нормальное, применение не оправдано (много значений исключается)\n",
    "rr_outlierlees = outlierless(df_linear, 'respiratory rate')"
   ]
  },
  {
   "cell_type": "code",
   "execution_count": 869,
   "id": "fc45b1ef",
   "metadata": {
    "ExecuteTime": {
     "end_time": "2023-05-03T20:18:05.555015Z",
     "start_time": "2023-05-03T20:18:05.375339Z"
    }
   },
   "outputs": [
    {
     "data": {
      "text/plain": [
       "<AxesSubplot:title={'center':'Boxplot of [Respiratory rate] without outliers'}>"
      ]
     },
     "execution_count": 869,
     "metadata": {},
     "output_type": "execute_result"
    },
    {
     "data": {
      "image/png": "[encoded data removed]",
      "text/plain": [
       "<Figure size 640x480 with 1 Axes>"
      ]
     },
     "metadata": {},
     "output_type": "display_data"
    }
   ],
   "source": [
    "# выбросы исключены\n",
    "rr_outlierlees['respiratory rate'].plot(kind='box', \n",
    "                                        title='Boxplot of [Respiratory rate] without outliers')"
   ]
  },
  {
   "cell_type": "code",
   "execution_count": 843,
   "id": "f1878a92",
   "metadata": {
    "ExecuteTime": {
     "end_time": "2023-05-03T20:12:16.795220Z",
     "start_time": "2023-05-03T20:12:16.747749Z"
    }
   },
   "outputs": [
    {
     "data": {
      "text/html": [
       "<div>\n",
       "<style scoped>\n",
       "    .dataframe tbody tr th:only-of-type {\n",
       "        vertical-align: middle;\n",
       "    }\n",
       "\n",
       "    .dataframe tbody tr th {\n",
       "        vertical-align: top;\n",
       "    }\n",
       "\n",
       "    .dataframe thead th {\n",
       "        text-align: right;\n",
       "    }\n",
       "</style>\n",
       "<table border=\"1\" class=\"dataframe\">\n",
       "  <thead>\n",
       "    <tr style=\"text-align: right;\">\n",
       "      <th></th>\n",
       "      <th>count</th>\n",
       "      <th>mean</th>\n",
       "      <th>std</th>\n",
       "      <th>min</th>\n",
       "      <th>25%</th>\n",
       "      <th>50%</th>\n",
       "      <th>75%</th>\n",
       "      <th>max</th>\n",
       "    </tr>\n",
       "  </thead>\n",
       "  <tbody>\n",
       "    <tr>\n",
       "      <th>respiratory rate</th>\n",
       "      <td>242.0</td>\n",
       "      <td>30.417355</td>\n",
       "      <td>17.642231</td>\n",
       "      <td>8.0</td>\n",
       "      <td>18.5</td>\n",
       "      <td>24.5</td>\n",
       "      <td>36.0</td>\n",
       "      <td>96.0</td>\n",
       "    </tr>\n",
       "    <tr>\n",
       "      <th>respiratory rate</th>\n",
       "      <td>225.0</td>\n",
       "      <td>26.715556</td>\n",
       "      <td>11.461464</td>\n",
       "      <td>8.0</td>\n",
       "      <td>18.0</td>\n",
       "      <td>24.0</td>\n",
       "      <td>35.0</td>\n",
       "      <td>60.0</td>\n",
       "    </tr>\n",
       "  </tbody>\n",
       "</table>\n",
       "</div>"
      ],
      "text/plain": [
       "                  count       mean        std  min   25%   50%   75%   max\n",
       "respiratory rate  242.0  30.417355  17.642231  8.0  18.5  24.5  36.0  96.0\n",
       "respiratory rate  225.0  26.715556  11.461464  8.0  18.0  24.0  35.0  60.0"
      ]
     },
     "execution_count": 843,
     "metadata": {},
     "output_type": "execute_result"
    }
   ],
   "source": [
    "pd.concat([df_linear['respiratory rate'].describe(), rr_outlierlees['respiratory rate'].describe()], axis=1).T"
   ]
  },
  {
   "cell_type": "markdown",
   "id": "a24a0c54",
   "metadata": {},
   "source": [
    "# category"
   ]
  },
  {
   "cell_type": "code",
   "execution_count": 870,
   "id": "ca8a7059",
   "metadata": {
    "ExecuteTime": {
     "end_time": "2023-05-03T20:19:58.353291Z",
     "start_time": "2023-05-03T20:19:57.468854Z"
    },
    "scrolled": false
   },
   "outputs": [
    {
     "data": {
      "text/plain": [
       "array([<AxesSubplot:ylabel='Frequency'>, <AxesSubplot:ylabel='Frequency'>,\n",
       "       <AxesSubplot:ylabel='Frequency'>, <AxesSubplot:ylabel='Frequency'>,\n",
       "       <AxesSubplot:ylabel='Frequency'>], dtype=object)"
      ]
     },
     "execution_count": 870,
     "metadata": {},
     "output_type": "execute_result"
    },
    {
     "data": {
      "image/png": "[encoded data removed]",
      "text/plain": [
       "<Figure size 640x480 with 5 Axes>"
      ]
     },
     "metadata": {},
     "output_type": "display_data"
    }
   ],
   "source": [
    "df_horses[[\"surgery?\", \n",
    "           \"age\", \n",
    "           \"temperature of extremities\", \n",
    "           \"pain\", \n",
    "           \"outcome\"]]\\\n",
    "                       .plot(kind='hist', \n",
    "                             subplots=True)"
   ]
  },
  {
   "cell_type": "code",
   "execution_count": 871,
   "id": "573ab69e",
   "metadata": {
    "ExecuteTime": {
     "end_time": "2023-05-03T20:20:17.698171Z",
     "start_time": "2023-05-03T20:20:17.514352Z"
    },
    "scrolled": false
   },
   "outputs": [
    {
     "data": {
      "text/plain": [
       "<AxesSubplot:title={'center':'Hist of [surgery?]'}>"
      ]
     },
     "execution_count": 871,
     "metadata": {},
     "output_type": "execute_result"
    },
    {
     "data": {
      "image/png": "[encoded data removed]",
      "text/plain": [
       "<Figure size 640x480 with 1 Axes>"
      ]
     },
     "metadata": {},
     "output_type": "display_data"
    }
   ],
   "source": [
    "#частотное распределение\n",
    "df_horses[\"surgery?\"]\\\n",
    "                        .value_counts(normalize=True, dropna=False)\\\n",
    "                        .plot(kind='bar', title='Hist of [surgery?]')"
   ]
  },
  {
   "cell_type": "code",
   "execution_count": 283,
   "id": "244c9fea",
   "metadata": {
    "ExecuteTime": {
     "end_time": "2023-04-28T10:04:21.390791Z",
     "start_time": "2023-04-28T10:04:21.379882Z"
    }
   },
   "outputs": [],
   "source": [
    "#  1:  surgery?\n",
    "#           1 = Yes, it had surgery\n",
    "#           2 = It was treated without surgery"
   ]
  },
  {
   "cell_type": "code",
   "execution_count": null,
   "id": "6f29923c",
   "metadata": {
    "ExecuteTime": {
     "end_time": "2023-04-28T10:04:23.379977Z",
     "start_time": "2023-04-28T10:04:23.362646Z"
    }
   },
   "outputs": [],
   "source": [
    "# 180 (0.60) - Yes, it had surgery\n",
    "# 119 (0.39) - It was treated without surgery\n",
    "# 1 (0.003) - Outlier  \n",
    "#  один пропуск, будет заменен на mode()"
   ]
  },
  {
   "cell_type": "code",
   "execution_count": 427,
   "id": "9d1e9082",
   "metadata": {
    "ExecuteTime": {
     "end_time": "2023-05-02T11:49:58.835389Z",
     "start_time": "2023-05-02T11:49:58.695099Z"
    }
   },
   "outputs": [
    {
     "data": {
      "text/plain": [
       "<AxesSubplot:title={'center':'Hist of [outcome]'}>"
      ]
     },
     "execution_count": 427,
     "metadata": {},
     "output_type": "execute_result"
    },
    {
     "data": {
      "image/png": "[encoded data removed]",
      "text/plain": [
       "<Figure size 640x480 with 1 Axes>"
      ]
     },
     "metadata": {},
     "output_type": "display_data"
    }
   ],
   "source": [
    "# частотное распределение\n",
    "df_horses[\"outcome\"]\\\n",
    "                    .value_counts(normalize=False, dropna=False)\\\n",
    "                    .sort_index()\\\n",
    "                    .plot(kind='bar', title='Hist of [outcome]')"
   ]
  },
  {
   "cell_type": "code",
   "execution_count": null,
   "id": "52f44ccc",
   "metadata": {},
   "outputs": [],
   "source": [
    "# 178 (0.59) - lived\n",
    "# 77 (0.25) - died\n",
    "# 44 (0.14) - was euthanized\n",
    "# 1 (0.003) - Outliers\n",
    "#  один пропуск, будет заменен на mode()"
   ]
  },
  {
   "cell_type": "code",
   "execution_count": 408,
   "id": "7a98ff73",
   "metadata": {
    "ExecuteTime": {
     "end_time": "2023-05-02T11:17:16.682356Z",
     "start_time": "2023-05-02T11:17:16.597575Z"
    },
    "scrolled": false
   },
   "outputs": [
    {
     "data": {
      "text/plain": [
       "<AxesSubplot:title={'center':'Hist of [age]'}>"
      ]
     },
     "execution_count": 408,
     "metadata": {},
     "output_type": "execute_result"
    },
    {
     "data": {
      "image/png": "[encoded data removed]",
      "text/plain": [
       "<Figure size 640x480 with 1 Axes>"
      ]
     },
     "metadata": {},
     "output_type": "display_data"
    }
   ],
   "source": [
    "# частотное распределение\n",
    "df_horses[\"age\"]\\\n",
    "                .value_counts(normalize=True, dropna=False)\\\n",
    "                .plot(kind='bar', title='Hist of [age]')"
   ]
  },
  {
   "cell_type": "code",
   "execution_count": null,
   "id": "3fb0a1d1",
   "metadata": {
    "code_folding": []
   },
   "outputs": [],
   "source": [
    "#  2:  Age\n",
    "#           1 = Adult horse\n",
    "#           2 = Young (< 6 months)"
   ]
  },
  {
   "cell_type": "code",
   "execution_count": null,
   "id": "b7c586dd",
   "metadata": {
    "code_folding": []
   },
   "outputs": [],
   "source": [
    "# 276 (0.92) - Adult horse\n",
    "# 24 (0.08)  - В описании указано значение \"2\" для \"Young (< 6 months)\". \n",
    "# В данных встречаются значения 1 и 9, что не соответстсвует файлу описания. \n",
    "# Так как значение \"2\" в датасете не встречается вообще, то можно предположить,\n",
    "# что \"9\" ошибочно использовалось для маркировки молодых (<6 months) лошадей.\n",
    "# Ниже будет произведена замена 9 на 2"
   ]
  },
  {
   "cell_type": "code",
   "execution_count": 409,
   "id": "b3327fab",
   "metadata": {
    "ExecuteTime": {
     "end_time": "2023-05-02T11:17:19.198302Z",
     "start_time": "2023-05-02T11:17:19.107225Z"
    },
    "scrolled": false
   },
   "outputs": [
    {
     "data": {
      "text/plain": [
       "<AxesSubplot:title={'center':'Hist of [temperature of extremities]'}>"
      ]
     },
     "execution_count": 409,
     "metadata": {},
     "output_type": "execute_result"
    },
    {
     "data": {
      "image/png": "[encoded data removed]",
      "text/plain": [
       "<Figure size 640x480 with 1 Axes>"
      ]
     },
     "metadata": {},
     "output_type": "display_data"
    }
   ],
   "source": [
    "# частотное распределение\n",
    "df_horses[\"temperature of extremities\"]\\\n",
    "        .value_counts(normalize=False, dropna=False)\\\n",
    "        .sort_index(ascending=True)\\\n",
    "        .plot(kind='bar', title='Hist of [temperature of extremities]')"
   ]
  },
  {
   "cell_type": "code",
   "execution_count": 410,
   "id": "c45db54d",
   "metadata": {
    "ExecuteTime": {
     "end_time": "2023-05-02T11:17:20.596397Z",
     "start_time": "2023-05-02T11:17:20.584939Z"
    }
   },
   "outputs": [],
   "source": [
    "# 7:  temperature of extremities\n",
    "#           - a subjective indication of peripheral circulation\n",
    "#           - possible values:\n",
    "#                1 = Normal\n",
    "#                2 = Warm\n",
    "#                3 = Cool\n",
    "#                4 = Cold\n",
    "#           - cool to cold extremities indicate possible shock\n",
    "#           - hot extremities should correlate with an elevated rectal temp."
   ]
  },
  {
   "cell_type": "code",
   "execution_count": null,
   "id": "69c945c8",
   "metadata": {},
   "outputs": [],
   "source": [
    "# 78 (0.26) - Normal\n",
    "# 30 (0.10) - Warm\n",
    "# 109 (0.36) - Cool\n",
    "# 27 (0.09) - Cold\n",
    "# 56 (0.18) - Outliers"
   ]
  },
  {
   "cell_type": "code",
   "execution_count": 428,
   "id": "a9b5270c",
   "metadata": {
    "ExecuteTime": {
     "end_time": "2023-05-02T11:50:33.363905Z",
     "start_time": "2023-05-02T11:50:33.256886Z"
    },
    "scrolled": false
   },
   "outputs": [
    {
     "data": {
      "text/plain": [
       "<AxesSubplot:title={'center':'Hist of [pain]'}>"
      ]
     },
     "execution_count": 428,
     "metadata": {},
     "output_type": "execute_result"
    },
    {
     "data": {
      "image/png": "[encoded data removed]",
      "text/plain": [
       "<Figure size 640x480 with 1 Axes>"
      ]
     },
     "metadata": {},
     "output_type": "display_data"
    }
   ],
   "source": [
    "# частотное распределение\n",
    "df_horses[\"pain\"]\\\n",
    "                .value_counts(normalize=True, dropna=False)\\\n",
    "                .sort_index()\\\n",
    "                .plot(kind='bar', title='Hist of [pain]')"
   ]
  },
  {
   "cell_type": "code",
   "execution_count": 198,
   "id": "f3afdf7e",
   "metadata": {
    "ExecuteTime": {
     "end_time": "2023-04-16T21:46:31.042491Z",
     "start_time": "2023-04-16T21:46:31.035204Z"
    },
    "collapsed": true
   },
   "outputs": [
    {
     "ename": "IndentationError",
     "evalue": "unindent does not match any outer indentation level (<tokenize>, line 50)",
     "output_type": "error",
     "traceback": [
      "\u001b[1;36m  File \u001b[1;32m\"<tokenize>\"\u001b[1;36m, line \u001b[1;32m50\u001b[0m\n\u001b[1;33m    23: outcome\u001b[0m\n\u001b[1;37m    ^\u001b[0m\n\u001b[1;31mIndentationError\u001b[0m\u001b[1;31m:\u001b[0m unindent does not match any outer indentation level\n"
     ]
    }
   ],
   "source": [
    "#  11: pain \n",
    "#           - a subjective judgement of the horse's pain level\n",
    "#             - possible values:\n",
    "#                1 = alert, no pain\n",
    "#                2 = depressed\n",
    "#                3 = intermittent mild pain\n",
    "#                4 = intermittent severe pain\n",
    "#                5 = continuous severe pain\n",
    "#           - should NOT be treated as a ordered or discrete variable!\n",
    "#           - In general, the more painful, the more likely it is to require\n",
    "#             surgery\n",
    "#           - prior treatment of pain may mask the pain level to some extent"
   ]
  },
  {
   "cell_type": "code",
   "execution_count": null,
   "id": "2cb41903",
   "metadata": {},
   "outputs": [],
   "source": [
    "# 38 (0.13) - alert, no pain\n",
    "# 59 (0.20) - depressed\n",
    "# 67 (0.22) - intermittent mild pain\n",
    "# 39 (0.13) - intermittent severe pain\n",
    "# 42 (0.14) - continuous severe pain\n",
    "# 55 (0.18) - Outliers"
   ]
  },
  {
   "cell_type": "markdown",
   "id": "d429068e",
   "metadata": {},
   "source": [
    "### Задание 3. Работа с пропусками\n",
    "Рассчитать количество пропусков для всех выбранных столбцов. Принять и обосновать решение о методе заполнения пропусков по каждому столбцу на основе рассчитанных статистик и возможной взаимосвязи значений в них. Сформировать датафрейм, в котором пропуски будут отсутствовать."
   ]
  },
  {
   "cell_type": "markdown",
   "id": "7b5b96b2",
   "metadata": {},
   "source": [
    "План по заполнению/удалению пропусков:\n",
    "* удаление всех строк, где одновременно в пяти категориях NaN\n",
    "* surgery, outcome - замена NaN на моду\n",
    "* age - замена 9 <--> 2\n",
    "* rectal temperature/pulse/respiratory rate - замена NaN на mean/median/median\n",
    "* выбор значения для заполнения NaN в оставшихся двух столбцах. Заполнение выбранным."
   ]
  },
  {
   "cell_type": "code",
   "execution_count": 1009,
   "id": "90d223f1",
   "metadata": {
    "ExecuteTime": {
     "end_time": "2023-05-03T22:02:29.646764Z",
     "start_time": "2023-05-03T22:02:29.633700Z"
    },
    "deletable": false,
    "editable": false,
    "scrolled": true
   },
   "outputs": [],
   "source": [
    "# обновить данные из файла\n",
    "df_horses = pd.read_csv('horse_data.csv', #файл в корне Jupyter Root\n",
    "                        header=None, #заголовков нет\n",
    "                        names=columns_all, #названия всех колонок\n",
    "                        usecols=columns_required, #используемые колонки\n",
    "                        na_values='?', #замена \"?\" на NaN\n",
    "                        )"
   ]
  },
  {
   "cell_type": "code",
   "execution_count": 1010,
   "id": "6013478d",
   "metadata": {
    "ExecuteTime": {
     "end_time": "2023-05-03T22:02:34.367582Z",
     "start_time": "2023-05-03T22:02:34.129968Z"
    },
    "deletable": false,
    "editable": false,
    "scrolled": true
   },
   "outputs": [
    {
     "data": {
      "text/plain": [
       "<AxesSubplot:>"
      ]
     },
     "execution_count": 1010,
     "metadata": {},
     "output_type": "execute_result"
    },
    {
     "data": {
      "image/png": "[encoded data removed]",
      "text/plain": [
       "<Figure size 640x480 with 2 Axes>"
      ]
     },
     "metadata": {},
     "output_type": "display_data"
    }
   ],
   "source": [
    "#посмотреть на пропуски\n",
    "sns.heatmap(df_horses.isnull(), cmap='Blues')   "
   ]
  },
  {
   "cell_type": "code",
   "execution_count": 970,
   "id": "5344b4ef",
   "metadata": {
    "ExecuteTime": {
     "end_time": "2023-05-03T21:55:04.003186Z",
     "start_time": "2023-05-03T21:55:03.996179Z"
    },
    "scrolled": true
   },
   "outputs": [],
   "source": [
    "# исключение строк, в которых все основные пять категорий == NaN\n",
    "df_horses = df_horses[~df_horses['rectal temperature'].isnull() |\\\n",
    "                     ~df_horses['pulse'].isnull() |\\\n",
    "                     ~df_horses['respiratory rate'].isnull() |\\\n",
    "                     ~df_horses['temperature of extremities'].isnull() |\\\n",
    "                     ~df_horses['pain'].isnull()]"
   ]
  },
  {
   "cell_type": "code",
   "execution_count": 1011,
   "id": "f7a2cdd0",
   "metadata": {
    "ExecuteTime": {
     "end_time": "2023-05-03T22:02:39.701991Z",
     "start_time": "2023-05-03T22:02:39.690778Z"
    },
    "deletable": false,
    "editable": false
   },
   "outputs": [],
   "source": [
    "# короткий вариант, как исключить строки, в которых пять категорий == NaN,\n",
    "# правда здесь могут быть и другие комбинации категорий, удаление происходит\n",
    "# по количеству\n",
    "df_horses.dropna(thresh=4, inplace=True)\n"
   ]
  },
  {
   "cell_type": "code",
   "execution_count": 1012,
   "id": "b59b757f",
   "metadata": {
    "ExecuteTime": {
     "end_time": "2023-05-03T22:02:43.472736Z",
     "start_time": "2023-05-03T22:02:43.466759Z"
    },
    "deletable": false,
    "editable": false
   },
   "outputs": [],
   "source": [
    "# замена NaN на моду\n",
    "df_horses['surgery?'].fillna(df_horses['surgery?'].mode().squeeze(), inplace = True)\n",
    "df_horses['outcome'].fillna(df_horses['outcome'].mode().squeeze(), inplace = True)"
   ]
  },
  {
   "cell_type": "code",
   "execution_count": 1013,
   "id": "3cd6d96c",
   "metadata": {
    "ExecuteTime": {
     "end_time": "2023-05-03T22:02:44.114014Z",
     "start_time": "2023-05-03T22:02:44.106778Z"
    },
    "deletable": false,
    "editable": false,
    "scrolled": true
   },
   "outputs": [
    {
     "data": {
      "text/plain": [
       "0.0"
      ]
     },
     "execution_count": 1013,
     "metadata": {},
     "output_type": "execute_result"
    }
   ],
   "source": [
    "# замена  9 <--> 2 в столбце 'age'\n",
    "df_horses['age'].replace(to_replace=9, value=2, inplace = True)\n",
    "df_horses[df_horses['age'] == 9].sum()['age']  #проверка"
   ]
  },
  {
   "cell_type": "code",
   "execution_count": 1014,
   "id": "471d536e",
   "metadata": {
    "ExecuteTime": {
     "end_time": "2023-05-03T22:02:45.061776Z",
     "start_time": "2023-05-03T22:02:45.050408Z"
    },
    "deletable": false,
    "editable": false
   },
   "outputs": [],
   "source": [
    "#словарь с данными для заполнения по схеме \"столбец\": значение для замены\n",
    "fill_dict = {\n",
    "   'rectal temperature': df_horses.loc[:, 'rectal temperature'].mean(),\n",
    "   'pulse': df_horses.loc[:, 'pulse'].median(),\n",
    "   'respiratory rate': df_horses.loc[:, 'respiratory rate'].median() \n",
    "}"
   ]
  },
  {
   "cell_type": "code",
   "execution_count": 1015,
   "id": "de83e4ed",
   "metadata": {
    "ExecuteTime": {
     "end_time": "2023-05-03T22:02:48.102332Z",
     "start_time": "2023-05-03T22:02:48.082940Z"
    },
    "deletable": false,
    "editable": false
   },
   "outputs": [],
   "source": [
    "# заполнение NaN\n",
    "df_horses.fillna(fill_dict, inplace=True)"
   ]
  },
  {
   "cell_type": "code",
   "execution_count": null,
   "id": "004c018d",
   "metadata": {},
   "outputs": [],
   "source": [
    "# Осталось заполнить пропуски в temperature of extremities/pain\n",
    "# Посмотрим на сгруппированные данные"
   ]
  },
  {
   "cell_type": "code",
   "execution_count": null,
   "id": "d656e057",
   "metadata": {},
   "outputs": [],
   "source": [
    "# по интервалам температуры"
   ]
  },
  {
   "cell_type": "code",
   "execution_count": 1042,
   "id": "3a3602be",
   "metadata": {
    "ExecuteTime": {
     "end_time": "2023-05-03T22:05:33.671911Z",
     "start_time": "2023-05-03T22:05:33.656165Z"
    },
    "scrolled": true
   },
   "outputs": [],
   "source": [
    "df_horses['rectal_bins'] = pd.cut(df_horses['rectal temperature'], 5)"
   ]
  },
  {
   "cell_type": "code",
   "execution_count": 1048,
   "id": "b31e9dcd",
   "metadata": {
    "ExecuteTime": {
     "end_time": "2023-05-03T22:06:32.800232Z",
     "start_time": "2023-05-03T22:06:32.778970Z"
    },
    "scrolled": true
   },
   "outputs": [
    {
     "data": {
      "text/html": [
       "<div>\n",
       "<style scoped>\n",
       "    .dataframe tbody tr th:only-of-type {\n",
       "        vertical-align: middle;\n",
       "    }\n",
       "\n",
       "    .dataframe tbody tr th {\n",
       "        vertical-align: top;\n",
       "    }\n",
       "\n",
       "    .dataframe thead th {\n",
       "        text-align: right;\n",
       "    }\n",
       "</style>\n",
       "<table border=\"1\" class=\"dataframe\">\n",
       "  <thead>\n",
       "    <tr style=\"text-align: right;\">\n",
       "      <th></th>\n",
       "      <th>surgery?</th>\n",
       "      <th>age</th>\n",
       "      <th>rectal temperature</th>\n",
       "      <th>pulse</th>\n",
       "      <th>respiratory rate</th>\n",
       "      <th>temperature of extremities</th>\n",
       "      <th>pain</th>\n",
       "      <th>outcome</th>\n",
       "    </tr>\n",
       "    <tr>\n",
       "      <th>rectal_bins</th>\n",
       "      <th></th>\n",
       "      <th></th>\n",
       "      <th></th>\n",
       "      <th></th>\n",
       "      <th></th>\n",
       "      <th></th>\n",
       "      <th></th>\n",
       "      <th></th>\n",
       "    </tr>\n",
       "  </thead>\n",
       "  <tbody>\n",
       "    <tr>\n",
       "      <th>(35.395, 36.48]</th>\n",
       "      <td>1.5</td>\n",
       "      <td>1.0</td>\n",
       "      <td>36.050000</td>\n",
       "      <td>93.0</td>\n",
       "      <td>27.25</td>\n",
       "      <td>3.0</td>\n",
       "      <td>3.5</td>\n",
       "      <td>2.5</td>\n",
       "    </tr>\n",
       "    <tr>\n",
       "      <th>(36.48, 37.56]</th>\n",
       "      <td>1.0</td>\n",
       "      <td>1.0</td>\n",
       "      <td>37.300000</td>\n",
       "      <td>56.0</td>\n",
       "      <td>24.25</td>\n",
       "      <td>3.0</td>\n",
       "      <td>3.0</td>\n",
       "      <td>1.0</td>\n",
       "    </tr>\n",
       "    <tr>\n",
       "      <th>(37.56, 38.64]</th>\n",
       "      <td>1.0</td>\n",
       "      <td>1.0</td>\n",
       "      <td>38.167917</td>\n",
       "      <td>64.0</td>\n",
       "      <td>24.50</td>\n",
       "      <td>3.0</td>\n",
       "      <td>3.0</td>\n",
       "      <td>1.0</td>\n",
       "    </tr>\n",
       "    <tr>\n",
       "      <th>(38.64, 39.72]</th>\n",
       "      <td>1.0</td>\n",
       "      <td>1.0</td>\n",
       "      <td>39.000000</td>\n",
       "      <td>80.0</td>\n",
       "      <td>32.00</td>\n",
       "      <td>3.0</td>\n",
       "      <td>3.0</td>\n",
       "      <td>1.0</td>\n",
       "    </tr>\n",
       "    <tr>\n",
       "      <th>(39.72, 40.8]</th>\n",
       "      <td>2.0</td>\n",
       "      <td>1.0</td>\n",
       "      <td>40.300000</td>\n",
       "      <td>78.0</td>\n",
       "      <td>36.00</td>\n",
       "      <td>3.0</td>\n",
       "      <td>2.0</td>\n",
       "      <td>2.0</td>\n",
       "    </tr>\n",
       "  </tbody>\n",
       "</table>\n",
       "</div>"
      ],
      "text/plain": [
       "                 surgery?  age  rectal temperature  pulse  respiratory rate  \\\n",
       "rectal_bins                                                                   \n",
       "(35.395, 36.48]       1.5  1.0           36.050000   93.0             27.25   \n",
       "(36.48, 37.56]        1.0  1.0           37.300000   56.0             24.25   \n",
       "(37.56, 38.64]        1.0  1.0           38.167917   64.0             24.50   \n",
       "(38.64, 39.72]        1.0  1.0           39.000000   80.0             32.00   \n",
       "(39.72, 40.8]         2.0  1.0           40.300000   78.0             36.00   \n",
       "\n",
       "                 temperature of extremities  pain  outcome  \n",
       "rectal_bins                                                 \n",
       "(35.395, 36.48]                         3.0   3.5      2.5  \n",
       "(36.48, 37.56]                          3.0   3.0      1.0  \n",
       "(37.56, 38.64]                          3.0   3.0      1.0  \n",
       "(38.64, 39.72]                          3.0   3.0      1.0  \n",
       "(39.72, 40.8]                           3.0   2.0      2.0  "
      ]
     },
     "execution_count": 1048,
     "metadata": {},
     "output_type": "execute_result"
    }
   ],
   "source": [
    "df_horses.groupby('rectal_bins').median()"
   ]
  },
  {
   "cell_type": "code",
   "execution_count": 1049,
   "id": "2e12d78c",
   "metadata": {
    "ExecuteTime": {
     "end_time": "2023-05-03T22:06:35.811465Z",
     "start_time": "2023-05-03T22:06:35.786829Z"
    },
    "scrolled": true
   },
   "outputs": [
    {
     "data": {
      "text/html": [
       "<div>\n",
       "<style scoped>\n",
       "    .dataframe tbody tr th:only-of-type {\n",
       "        vertical-align: middle;\n",
       "    }\n",
       "\n",
       "    .dataframe tbody tr th {\n",
       "        vertical-align: top;\n",
       "    }\n",
       "\n",
       "    .dataframe thead th {\n",
       "        text-align: right;\n",
       "    }\n",
       "</style>\n",
       "<table border=\"1\" class=\"dataframe\">\n",
       "  <thead>\n",
       "    <tr style=\"text-align: right;\">\n",
       "      <th></th>\n",
       "      <th>surgery?</th>\n",
       "      <th>age</th>\n",
       "      <th>rectal temperature</th>\n",
       "      <th>pulse</th>\n",
       "      <th>respiratory rate</th>\n",
       "      <th>temperature of extremities</th>\n",
       "      <th>pain</th>\n",
       "      <th>outcome</th>\n",
       "    </tr>\n",
       "    <tr>\n",
       "      <th>rectal_bins</th>\n",
       "      <th></th>\n",
       "      <th></th>\n",
       "      <th></th>\n",
       "      <th></th>\n",
       "      <th></th>\n",
       "      <th></th>\n",
       "      <th></th>\n",
       "      <th></th>\n",
       "    </tr>\n",
       "  </thead>\n",
       "  <tbody>\n",
       "    <tr>\n",
       "      <th>(35.395, 36.48]</th>\n",
       "      <td>1.5</td>\n",
       "      <td>1.0</td>\n",
       "      <td>36.0</td>\n",
       "      <td>92.0</td>\n",
       "      <td>28.4</td>\n",
       "      <td>3.0</td>\n",
       "      <td>3.5</td>\n",
       "      <td>2.5</td>\n",
       "    </tr>\n",
       "    <tr>\n",
       "      <th>(36.48, 37.56]</th>\n",
       "      <td>1.4</td>\n",
       "      <td>1.0</td>\n",
       "      <td>37.2</td>\n",
       "      <td>62.5</td>\n",
       "      <td>25.5</td>\n",
       "      <td>2.4</td>\n",
       "      <td>2.9</td>\n",
       "      <td>1.7</td>\n",
       "    </tr>\n",
       "    <tr>\n",
       "      <th>(37.56, 38.64]</th>\n",
       "      <td>1.4</td>\n",
       "      <td>1.1</td>\n",
       "      <td>38.2</td>\n",
       "      <td>69.2</td>\n",
       "      <td>27.7</td>\n",
       "      <td>2.4</td>\n",
       "      <td>3.0</td>\n",
       "      <td>1.5</td>\n",
       "    </tr>\n",
       "    <tr>\n",
       "      <th>(38.64, 39.72]</th>\n",
       "      <td>1.4</td>\n",
       "      <td>1.2</td>\n",
       "      <td>39.1</td>\n",
       "      <td>86.7</td>\n",
       "      <td>40.2</td>\n",
       "      <td>2.7</td>\n",
       "      <td>2.9</td>\n",
       "      <td>1.6</td>\n",
       "    </tr>\n",
       "    <tr>\n",
       "      <th>(39.72, 40.8]</th>\n",
       "      <td>1.6</td>\n",
       "      <td>1.0</td>\n",
       "      <td>40.3</td>\n",
       "      <td>90.0</td>\n",
       "      <td>39.7</td>\n",
       "      <td>2.6</td>\n",
       "      <td>2.6</td>\n",
       "      <td>2.0</td>\n",
       "    </tr>\n",
       "  </tbody>\n",
       "</table>\n",
       "</div>"
      ],
      "text/plain": [
       "                 surgery?  age  rectal temperature  pulse  respiratory rate  \\\n",
       "rectal_bins                                                                   \n",
       "(35.395, 36.48]       1.5  1.0                36.0   92.0              28.4   \n",
       "(36.48, 37.56]        1.4  1.0                37.2   62.5              25.5   \n",
       "(37.56, 38.64]        1.4  1.1                38.2   69.2              27.7   \n",
       "(38.64, 39.72]        1.4  1.2                39.1   86.7              40.2   \n",
       "(39.72, 40.8]         1.6  1.0                40.3   90.0              39.7   \n",
       "\n",
       "                 temperature of extremities  pain  outcome  \n",
       "rectal_bins                                                 \n",
       "(35.395, 36.48]                         3.0   3.5      2.5  \n",
       "(36.48, 37.56]                          2.4   2.9      1.7  \n",
       "(37.56, 38.64]                          2.4   3.0      1.5  \n",
       "(38.64, 39.72]                          2.7   2.9      1.6  \n",
       "(39.72, 40.8]                           2.6   2.6      2.0  "
      ]
     },
     "execution_count": 1049,
     "metadata": {},
     "output_type": "execute_result"
    }
   ],
   "source": [
    "df_horses.groupby('rectal_bins').mean().round(1)"
   ]
  },
  {
   "cell_type": "code",
   "execution_count": 1058,
   "id": "cc8d8b2b",
   "metadata": {
    "ExecuteTime": {
     "end_time": "2023-05-03T22:07:21.503149Z",
     "start_time": "2023-05-03T22:07:21.498152Z"
    }
   },
   "outputs": [],
   "source": [
    "df_horses.drop('rectal_bins', axis=1, inplace=True, errors='ignore')"
   ]
  },
  {
   "cell_type": "code",
   "execution_count": 982,
   "id": "2d156e67",
   "metadata": {
    "ExecuteTime": {
     "end_time": "2023-05-03T21:56:05.039794Z",
     "start_time": "2023-05-03T21:56:05.030839Z"
    }
   },
   "outputs": [],
   "source": [
    "# по исходу"
   ]
  },
  {
   "cell_type": "code",
   "execution_count": 1050,
   "id": "a94dab93",
   "metadata": {
    "ExecuteTime": {
     "end_time": "2023-05-03T22:06:41.182672Z",
     "start_time": "2023-05-03T22:06:41.161941Z"
    }
   },
   "outputs": [
    {
     "data": {
      "text/html": [
       "<div>\n",
       "<style scoped>\n",
       "    .dataframe tbody tr th:only-of-type {\n",
       "        vertical-align: middle;\n",
       "    }\n",
       "\n",
       "    .dataframe tbody tr th {\n",
       "        vertical-align: top;\n",
       "    }\n",
       "\n",
       "    .dataframe thead th {\n",
       "        text-align: right;\n",
       "    }\n",
       "</style>\n",
       "<table border=\"1\" class=\"dataframe\">\n",
       "  <thead>\n",
       "    <tr style=\"text-align: right;\">\n",
       "      <th></th>\n",
       "      <th>surgery?</th>\n",
       "      <th>age</th>\n",
       "      <th>rectal temperature</th>\n",
       "      <th>pulse</th>\n",
       "      <th>respiratory rate</th>\n",
       "      <th>temperature of extremities</th>\n",
       "      <th>pain</th>\n",
       "    </tr>\n",
       "    <tr>\n",
       "      <th>outcome</th>\n",
       "      <th></th>\n",
       "      <th></th>\n",
       "      <th></th>\n",
       "      <th></th>\n",
       "      <th></th>\n",
       "      <th></th>\n",
       "      <th></th>\n",
       "    </tr>\n",
       "  </thead>\n",
       "  <tbody>\n",
       "    <tr>\n",
       "      <th>1.0</th>\n",
       "      <td>1.0</td>\n",
       "      <td>1.0</td>\n",
       "      <td>38.167917</td>\n",
       "      <td>55.0</td>\n",
       "      <td>24.5</td>\n",
       "      <td>2.0</td>\n",
       "      <td>3.0</td>\n",
       "    </tr>\n",
       "    <tr>\n",
       "      <th>2.0</th>\n",
       "      <td>1.0</td>\n",
       "      <td>1.0</td>\n",
       "      <td>38.167917</td>\n",
       "      <td>84.0</td>\n",
       "      <td>24.5</td>\n",
       "      <td>3.0</td>\n",
       "      <td>4.0</td>\n",
       "    </tr>\n",
       "    <tr>\n",
       "      <th>3.0</th>\n",
       "      <td>1.0</td>\n",
       "      <td>1.0</td>\n",
       "      <td>38.167917</td>\n",
       "      <td>81.0</td>\n",
       "      <td>24.5</td>\n",
       "      <td>3.0</td>\n",
       "      <td>3.0</td>\n",
       "    </tr>\n",
       "  </tbody>\n",
       "</table>\n",
       "</div>"
      ],
      "text/plain": [
       "         surgery?  age  rectal temperature  pulse  respiratory rate  \\\n",
       "outcome                                                               \n",
       "1.0           1.0  1.0           38.167917   55.0              24.5   \n",
       "2.0           1.0  1.0           38.167917   84.0              24.5   \n",
       "3.0           1.0  1.0           38.167917   81.0              24.5   \n",
       "\n",
       "         temperature of extremities  pain  \n",
       "outcome                                    \n",
       "1.0                             2.0   3.0  \n",
       "2.0                             3.0   4.0  \n",
       "3.0                             3.0   3.0  "
      ]
     },
     "execution_count": 1050,
     "metadata": {},
     "output_type": "execute_result"
    }
   ],
   "source": [
    "df_horses.groupby('outcome').median()"
   ]
  },
  {
   "cell_type": "code",
   "execution_count": 1051,
   "id": "6c98111a",
   "metadata": {
    "ExecuteTime": {
     "end_time": "2023-05-03T22:06:50.678239Z",
     "start_time": "2023-05-03T22:06:50.664979Z"
    },
    "scrolled": true
   },
   "outputs": [
    {
     "data": {
      "text/html": [
       "<div>\n",
       "<style scoped>\n",
       "    .dataframe tbody tr th:only-of-type {\n",
       "        vertical-align: middle;\n",
       "    }\n",
       "\n",
       "    .dataframe tbody tr th {\n",
       "        vertical-align: top;\n",
       "    }\n",
       "\n",
       "    .dataframe thead th {\n",
       "        text-align: right;\n",
       "    }\n",
       "</style>\n",
       "<table border=\"1\" class=\"dataframe\">\n",
       "  <thead>\n",
       "    <tr style=\"text-align: right;\">\n",
       "      <th></th>\n",
       "      <th>surgery?</th>\n",
       "      <th>age</th>\n",
       "      <th>rectal temperature</th>\n",
       "      <th>pulse</th>\n",
       "      <th>respiratory rate</th>\n",
       "      <th>temperature of extremities</th>\n",
       "      <th>pain</th>\n",
       "    </tr>\n",
       "    <tr>\n",
       "      <th>outcome</th>\n",
       "      <th></th>\n",
       "      <th></th>\n",
       "      <th></th>\n",
       "      <th></th>\n",
       "      <th></th>\n",
       "      <th></th>\n",
       "      <th></th>\n",
       "    </tr>\n",
       "  </thead>\n",
       "  <tbody>\n",
       "    <tr>\n",
       "      <th>1.0</th>\n",
       "      <td>1.5</td>\n",
       "      <td>1.1</td>\n",
       "      <td>38.2</td>\n",
       "      <td>63.4</td>\n",
       "      <td>28.5</td>\n",
       "      <td>2.2</td>\n",
       "      <td>2.6</td>\n",
       "    </tr>\n",
       "    <tr>\n",
       "      <th>2.0</th>\n",
       "      <td>1.3</td>\n",
       "      <td>1.1</td>\n",
       "      <td>38.2</td>\n",
       "      <td>84.7</td>\n",
       "      <td>31.2</td>\n",
       "      <td>2.8</td>\n",
       "      <td>3.6</td>\n",
       "    </tr>\n",
       "    <tr>\n",
       "      <th>3.0</th>\n",
       "      <td>1.4</td>\n",
       "      <td>1.0</td>\n",
       "      <td>38.1</td>\n",
       "      <td>81.3</td>\n",
       "      <td>29.9</td>\n",
       "      <td>3.0</td>\n",
       "      <td>3.2</td>\n",
       "    </tr>\n",
       "  </tbody>\n",
       "</table>\n",
       "</div>"
      ],
      "text/plain": [
       "         surgery?  age  rectal temperature  pulse  respiratory rate  \\\n",
       "outcome                                                               \n",
       "1.0           1.5  1.1                38.2   63.4              28.5   \n",
       "2.0           1.3  1.1                38.2   84.7              31.2   \n",
       "3.0           1.4  1.0                38.1   81.3              29.9   \n",
       "\n",
       "         temperature of extremities  pain  \n",
       "outcome                                    \n",
       "1.0                             2.2   2.6  \n",
       "2.0                             2.8   3.6  \n",
       "3.0                             3.0   3.2  "
      ]
     },
     "execution_count": 1051,
     "metadata": {},
     "output_type": "execute_result"
    }
   ],
   "source": [
    "df_horses.groupby('outcome').mean().round(1)"
   ]
  },
  {
   "cell_type": "code",
   "execution_count": null,
   "id": "e7a76fd2",
   "metadata": {},
   "outputs": [],
   "source": [
    "# оперировали или нет"
   ]
  },
  {
   "cell_type": "code",
   "execution_count": 1052,
   "id": "2e528728",
   "metadata": {
    "ExecuteTime": {
     "end_time": "2023-05-03T22:06:53.456780Z",
     "start_time": "2023-05-03T22:06:53.434186Z"
    },
    "scrolled": true
   },
   "outputs": [
    {
     "data": {
      "text/html": [
       "<div>\n",
       "<style scoped>\n",
       "    .dataframe tbody tr th:only-of-type {\n",
       "        vertical-align: middle;\n",
       "    }\n",
       "\n",
       "    .dataframe tbody tr th {\n",
       "        vertical-align: top;\n",
       "    }\n",
       "\n",
       "    .dataframe thead th {\n",
       "        text-align: right;\n",
       "    }\n",
       "</style>\n",
       "<table border=\"1\" class=\"dataframe\">\n",
       "  <thead>\n",
       "    <tr style=\"text-align: right;\">\n",
       "      <th></th>\n",
       "      <th>age</th>\n",
       "      <th>rectal temperature</th>\n",
       "      <th>pulse</th>\n",
       "      <th>respiratory rate</th>\n",
       "      <th>temperature of extremities</th>\n",
       "      <th>pain</th>\n",
       "      <th>outcome</th>\n",
       "    </tr>\n",
       "    <tr>\n",
       "      <th>surgery?</th>\n",
       "      <th></th>\n",
       "      <th></th>\n",
       "      <th></th>\n",
       "      <th></th>\n",
       "      <th></th>\n",
       "      <th></th>\n",
       "      <th></th>\n",
       "    </tr>\n",
       "  </thead>\n",
       "  <tbody>\n",
       "    <tr>\n",
       "      <th>1.0</th>\n",
       "      <td>1.0</td>\n",
       "      <td>38.167917</td>\n",
       "      <td>68.0</td>\n",
       "      <td>24.5</td>\n",
       "      <td>3.0</td>\n",
       "      <td>3.0</td>\n",
       "      <td>1.0</td>\n",
       "    </tr>\n",
       "    <tr>\n",
       "      <th>2.0</th>\n",
       "      <td>1.0</td>\n",
       "      <td>38.167917</td>\n",
       "      <td>56.0</td>\n",
       "      <td>24.5</td>\n",
       "      <td>3.0</td>\n",
       "      <td>3.0</td>\n",
       "      <td>1.0</td>\n",
       "    </tr>\n",
       "  </tbody>\n",
       "</table>\n",
       "</div>"
      ],
      "text/plain": [
       "          age  rectal temperature  pulse  respiratory rate  \\\n",
       "surgery?                                                     \n",
       "1.0       1.0           38.167917   68.0              24.5   \n",
       "2.0       1.0           38.167917   56.0              24.5   \n",
       "\n",
       "          temperature of extremities  pain  outcome  \n",
       "surgery?                                             \n",
       "1.0                              3.0   3.0      1.0  \n",
       "2.0                              3.0   3.0      1.0  "
      ]
     },
     "execution_count": 1052,
     "metadata": {},
     "output_type": "execute_result"
    }
   ],
   "source": [
    "df_horses.groupby('surgery?').median()"
   ]
  },
  {
   "cell_type": "code",
   "execution_count": 1053,
   "id": "533933b2",
   "metadata": {
    "ExecuteTime": {
     "end_time": "2023-05-03T22:06:56.917682Z",
     "start_time": "2023-05-03T22:06:56.906514Z"
    },
    "scrolled": true
   },
   "outputs": [
    {
     "data": {
      "text/html": [
       "<div>\n",
       "<style scoped>\n",
       "    .dataframe tbody tr th:only-of-type {\n",
       "        vertical-align: middle;\n",
       "    }\n",
       "\n",
       "    .dataframe tbody tr th {\n",
       "        vertical-align: top;\n",
       "    }\n",
       "\n",
       "    .dataframe thead th {\n",
       "        text-align: right;\n",
       "    }\n",
       "</style>\n",
       "<table border=\"1\" class=\"dataframe\">\n",
       "  <thead>\n",
       "    <tr style=\"text-align: right;\">\n",
       "      <th></th>\n",
       "      <th>age</th>\n",
       "      <th>rectal temperature</th>\n",
       "      <th>pulse</th>\n",
       "      <th>respiratory rate</th>\n",
       "      <th>temperature of extremities</th>\n",
       "      <th>pain</th>\n",
       "      <th>outcome</th>\n",
       "    </tr>\n",
       "    <tr>\n",
       "      <th>surgery?</th>\n",
       "      <th></th>\n",
       "      <th></th>\n",
       "      <th></th>\n",
       "      <th></th>\n",
       "      <th></th>\n",
       "      <th></th>\n",
       "      <th></th>\n",
       "    </tr>\n",
       "  </thead>\n",
       "  <tbody>\n",
       "    <tr>\n",
       "      <th>1.0</th>\n",
       "      <td>1.1</td>\n",
       "      <td>38.1</td>\n",
       "      <td>75.6</td>\n",
       "      <td>31.8</td>\n",
       "      <td>2.6</td>\n",
       "      <td>3.2</td>\n",
       "      <td>1.6</td>\n",
       "    </tr>\n",
       "    <tr>\n",
       "      <th>2.0</th>\n",
       "      <td>1.1</td>\n",
       "      <td>38.2</td>\n",
       "      <td>65.4</td>\n",
       "      <td>25.8</td>\n",
       "      <td>2.3</td>\n",
       "      <td>2.5</td>\n",
       "      <td>1.4</td>\n",
       "    </tr>\n",
       "  </tbody>\n",
       "</table>\n",
       "</div>"
      ],
      "text/plain": [
       "          age  rectal temperature  pulse  respiratory rate  \\\n",
       "surgery?                                                     \n",
       "1.0       1.1                38.1   75.6              31.8   \n",
       "2.0       1.1                38.2   65.4              25.8   \n",
       "\n",
       "          temperature of extremities  pain  outcome  \n",
       "surgery?                                             \n",
       "1.0                              2.6   3.2      1.6  \n",
       "2.0                              2.3   2.5      1.4  "
      ]
     },
     "execution_count": 1053,
     "metadata": {},
     "output_type": "execute_result"
    }
   ],
   "source": [
    "df_horses.groupby('surgery?').mean().round(1)"
   ]
  },
  {
   "cell_type": "code",
   "execution_count": null,
   "id": "a8f7e870",
   "metadata": {},
   "outputs": [],
   "source": [
    "# заполняем оставшиеся два столбца значениями mode()"
   ]
  },
  {
   "cell_type": "code",
   "execution_count": 1054,
   "id": "f1676f65",
   "metadata": {
    "ExecuteTime": {
     "end_time": "2023-05-03T22:07:01.534141Z",
     "start_time": "2023-05-03T22:07:01.523147Z"
    }
   },
   "outputs": [],
   "source": [
    "fill_dict_2 = {\n",
    "    'temperature of extremities': 3.0,#df_horses.loc[:, 'temperature of extremities'].mode(),\n",
    "    'pain': 3.0#df_horses.loc[:, 'pain'].mode()\n",
    "}"
   ]
  },
  {
   "cell_type": "code",
   "execution_count": 1055,
   "id": "4b4a26b6",
   "metadata": {
    "ExecuteTime": {
     "end_time": "2023-05-03T22:07:03.983283Z",
     "start_time": "2023-05-03T22:07:03.962881Z"
    }
   },
   "outputs": [],
   "source": [
    "df_horses.fillna(fill_dict_2, inplace=True)"
   ]
  },
  {
   "cell_type": "code",
   "execution_count": 1059,
   "id": "cd7a198c",
   "metadata": {
    "ExecuteTime": {
     "end_time": "2023-05-03T22:07:30.102457Z",
     "start_time": "2023-05-03T22:07:30.083774Z"
    }
   },
   "outputs": [
    {
     "data": {
      "text/plain": [
       "surgery?                      0\n",
       "age                           0\n",
       "rectal temperature            0\n",
       "pulse                         0\n",
       "respiratory rate              0\n",
       "temperature of extremities    0\n",
       "pain                          0\n",
       "outcome                       0\n",
       "dtype: int64"
      ]
     },
     "execution_count": 1059,
     "metadata": {},
     "output_type": "execute_result"
    }
   ],
   "source": [
    "df_horses.isnull().sum()"
   ]
  },
  {
   "cell_type": "code",
   "execution_count": 1060,
   "id": "92906c24",
   "metadata": {
    "ExecuteTime": {
     "end_time": "2023-05-03T22:07:46.292605Z",
     "start_time": "2023-05-03T22:07:46.275647Z"
    }
   },
   "outputs": [
    {
     "data": {
      "text/html": [
       "<div>\n",
       "<style scoped>\n",
       "    .dataframe tbody tr th:only-of-type {\n",
       "        vertical-align: middle;\n",
       "    }\n",
       "\n",
       "    .dataframe tbody tr th {\n",
       "        vertical-align: top;\n",
       "    }\n",
       "\n",
       "    .dataframe thead th {\n",
       "        text-align: right;\n",
       "    }\n",
       "</style>\n",
       "<table border=\"1\" class=\"dataframe\">\n",
       "  <thead>\n",
       "    <tr style=\"text-align: right;\">\n",
       "      <th></th>\n",
       "      <th>surgery?</th>\n",
       "      <th>age</th>\n",
       "      <th>rectal temperature</th>\n",
       "      <th>pulse</th>\n",
       "      <th>respiratory rate</th>\n",
       "      <th>temperature of extremities</th>\n",
       "      <th>pain</th>\n",
       "      <th>outcome</th>\n",
       "    </tr>\n",
       "  </thead>\n",
       "  <tbody>\n",
       "    <tr>\n",
       "      <th>0</th>\n",
       "      <td>2.0</td>\n",
       "      <td>1</td>\n",
       "      <td>38.500000</td>\n",
       "      <td>66.0</td>\n",
       "      <td>28.0</td>\n",
       "      <td>3.0</td>\n",
       "      <td>5.0</td>\n",
       "      <td>2.0</td>\n",
       "    </tr>\n",
       "    <tr>\n",
       "      <th>1</th>\n",
       "      <td>1.0</td>\n",
       "      <td>1</td>\n",
       "      <td>39.200000</td>\n",
       "      <td>88.0</td>\n",
       "      <td>20.0</td>\n",
       "      <td>3.0</td>\n",
       "      <td>3.0</td>\n",
       "      <td>3.0</td>\n",
       "    </tr>\n",
       "    <tr>\n",
       "      <th>2</th>\n",
       "      <td>2.0</td>\n",
       "      <td>1</td>\n",
       "      <td>38.300000</td>\n",
       "      <td>40.0</td>\n",
       "      <td>24.0</td>\n",
       "      <td>1.0</td>\n",
       "      <td>3.0</td>\n",
       "      <td>1.0</td>\n",
       "    </tr>\n",
       "    <tr>\n",
       "      <th>3</th>\n",
       "      <td>1.0</td>\n",
       "      <td>2</td>\n",
       "      <td>39.100000</td>\n",
       "      <td>164.0</td>\n",
       "      <td>84.0</td>\n",
       "      <td>4.0</td>\n",
       "      <td>2.0</td>\n",
       "      <td>2.0</td>\n",
       "    </tr>\n",
       "    <tr>\n",
       "      <th>4</th>\n",
       "      <td>2.0</td>\n",
       "      <td>1</td>\n",
       "      <td>37.300000</td>\n",
       "      <td>104.0</td>\n",
       "      <td>35.0</td>\n",
       "      <td>3.0</td>\n",
       "      <td>3.0</td>\n",
       "      <td>2.0</td>\n",
       "    </tr>\n",
       "    <tr>\n",
       "      <th>...</th>\n",
       "      <td>...</td>\n",
       "      <td>...</td>\n",
       "      <td>...</td>\n",
       "      <td>...</td>\n",
       "      <td>...</td>\n",
       "      <td>...</td>\n",
       "      <td>...</td>\n",
       "      <td>...</td>\n",
       "    </tr>\n",
       "    <tr>\n",
       "      <th>295</th>\n",
       "      <td>1.0</td>\n",
       "      <td>1</td>\n",
       "      <td>38.167917</td>\n",
       "      <td>120.0</td>\n",
       "      <td>70.0</td>\n",
       "      <td>4.0</td>\n",
       "      <td>2.0</td>\n",
       "      <td>3.0</td>\n",
       "    </tr>\n",
       "    <tr>\n",
       "      <th>296</th>\n",
       "      <td>2.0</td>\n",
       "      <td>1</td>\n",
       "      <td>37.200000</td>\n",
       "      <td>72.0</td>\n",
       "      <td>24.0</td>\n",
       "      <td>3.0</td>\n",
       "      <td>4.0</td>\n",
       "      <td>3.0</td>\n",
       "    </tr>\n",
       "    <tr>\n",
       "      <th>297</th>\n",
       "      <td>1.0</td>\n",
       "      <td>1</td>\n",
       "      <td>37.500000</td>\n",
       "      <td>72.0</td>\n",
       "      <td>30.0</td>\n",
       "      <td>4.0</td>\n",
       "      <td>4.0</td>\n",
       "      <td>2.0</td>\n",
       "    </tr>\n",
       "    <tr>\n",
       "      <th>298</th>\n",
       "      <td>1.0</td>\n",
       "      <td>1</td>\n",
       "      <td>36.500000</td>\n",
       "      <td>100.0</td>\n",
       "      <td>24.0</td>\n",
       "      <td>3.0</td>\n",
       "      <td>3.0</td>\n",
       "      <td>1.0</td>\n",
       "    </tr>\n",
       "    <tr>\n",
       "      <th>299</th>\n",
       "      <td>1.0</td>\n",
       "      <td>1</td>\n",
       "      <td>37.200000</td>\n",
       "      <td>40.0</td>\n",
       "      <td>20.0</td>\n",
       "      <td>3.0</td>\n",
       "      <td>3.0</td>\n",
       "      <td>3.0</td>\n",
       "    </tr>\n",
       "  </tbody>\n",
       "</table>\n",
       "<p>292 rows × 8 columns</p>\n",
       "</div>"
      ],
      "text/plain": [
       "     surgery?  age  rectal temperature  pulse  respiratory rate  \\\n",
       "0         2.0    1           38.500000   66.0              28.0   \n",
       "1         1.0    1           39.200000   88.0              20.0   \n",
       "2         2.0    1           38.300000   40.0              24.0   \n",
       "3         1.0    2           39.100000  164.0              84.0   \n",
       "4         2.0    1           37.300000  104.0              35.0   \n",
       "..        ...  ...                 ...    ...               ...   \n",
       "295       1.0    1           38.167917  120.0              70.0   \n",
       "296       2.0    1           37.200000   72.0              24.0   \n",
       "297       1.0    1           37.500000   72.0              30.0   \n",
       "298       1.0    1           36.500000  100.0              24.0   \n",
       "299       1.0    1           37.200000   40.0              20.0   \n",
       "\n",
       "     temperature of extremities  pain  outcome  \n",
       "0                           3.0   5.0      2.0  \n",
       "1                           3.0   3.0      3.0  \n",
       "2                           1.0   3.0      1.0  \n",
       "3                           4.0   2.0      2.0  \n",
       "4                           3.0   3.0      2.0  \n",
       "..                          ...   ...      ...  \n",
       "295                         4.0   2.0      3.0  \n",
       "296                         3.0   4.0      3.0  \n",
       "297                         4.0   4.0      2.0  \n",
       "298                         3.0   3.0      1.0  \n",
       "299                         3.0   3.0      3.0  \n",
       "\n",
       "[292 rows x 8 columns]"
      ]
     },
     "execution_count": 1060,
     "metadata": {},
     "output_type": "execute_result"
    }
   ],
   "source": [
    "df_horses"
   ]
  }
 ],
 "metadata": {
  "celltoolbar": "Отсутствует",
  "kernelspec": {
   "display_name": "Python 3 (ipykernel)",
   "language": "python",
   "name": "python3"
  },
  "language_info": {
   "codemirror_mode": {
    "name": "ipython",
    "version": 3
   },
   "file_extension": ".py",
   "mimetype": "text/x-python",
   "name": "python",
   "nbconvert_exporter": "python",
   "pygments_lexer": "ipython3",
   "version": "3.9.13"
  },
  "varInspector": {
   "cols": {
    "lenName": 16,
    "lenType": 16,
    "lenVar": 40
   },
   "kernels_config": {
    "python": {
     "delete_cmd_postfix": "",
     "delete_cmd_prefix": "del ",
     "library": "var_list.py",
     "varRefreshCmd": "print(var_dic_list())"
    },
    "r": {
     "delete_cmd_postfix": ") ",
     "delete_cmd_prefix": "rm(",
     "library": "var_list.r",
     "varRefreshCmd": "cat(var_dic_list()) "
    }
   },
   "position": {
    "height": "144.34px",
    "left": "1065.02px",
    "right": "20px",
    "top": "120px",
    "width": "349.969px"
   },
   "types_to_exclude": [
    "module",
    "function",
    "builtin_function_or_method",
    "instance",
    "_Feature"
   ],
   "window_display": false
  },
  "widgets": {
   "application/vnd.jupyter.widget-state+json": {
    "state": {},
    "version_major": 2,
    "version_minor": 0
   }
  }
 },
 "nbformat": 4,
 "nbformat_minor": 5
}
